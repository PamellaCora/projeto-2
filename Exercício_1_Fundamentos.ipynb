{
  "metadata": {
    "kernelspec": {
      "name": "python",
      "display_name": "Python (Pyodide)",
      "language": "python"
    },
    "language_info": {
      "codemirror_mode": {
        "name": "python",
        "version": 3
      },
      "file_extension": ".py",
      "mimetype": "text/x-python",
      "name": "python",
      "nbconvert_exporter": "python",
      "pygments_lexer": "ipython3",
      "version": "3.8"
    },
    "colab": {
      "authorship_tag": "ABX9TyN7DIBiklCN2Lr9wl4bcCkN",
      "include_colab_link": true,
      "provenance": []
    }
  },
  "nbformat_minor": 4,
  "nbformat": 4,
  "cells": [
    {
      "cell_type": "markdown",
      "source": "<a href=\"https://colab.research.google.com/github/millysg/Atividades/blob/main/Exerc%C3%ADcio_1_Python.ipynb\" target=\"_parent\"><img src=\"https://colab.research.google.com/assets/colab-badge.svg\" alt=\"Open In Colab\"/></a>",
      "metadata": {
        "colab_type": "text",
        "id": "view-in-github"
      }
    },
    {
      "cell_type": "markdown",
      "source": "# **Fundamentos e Ciencias de Dados - Exercío 1**\n",
      "metadata": {
        "id": "WVaf_rU_SZOe"
      }
    },
    {
      "cell_type": "code",
      "source": "import pandas as pd\n\nareas = pd.read_csv(\"C:/Users/20221enpro0391/Downloads/areas.csv\", sep = \";\", decimal = \",\")\n\nareas",
      "metadata": {
        "colab": {
          "base_uri": "https://localhost:8080/",
          "height": 443
        },
        "id": "Jv-xG1LIJdy3",
        "outputId": "7249bcd0-181b-408c-d637-8fcb58e9654a",
        "tags": []
      },
      "outputs": [
        {
          "data": {
            "text/html": [
              "<div>\n",
              "<style scoped>\n",
              "    .dataframe tbody tr th:only-of-type {\n",
              "        vertical-align: middle;\n",
              "    }\n",
              "\n",
              "    .dataframe tbody tr th {\n",
              "        vertical-align: top;\n",
              "    }\n",
              "\n",
              "    .dataframe thead th {\n",
              "        text-align: right;\n",
              "    }\n",
              "</style>\n",
              "<table border=\"1\" class=\"dataframe\">\n",
              "  <thead>\n",
              "    <tr style=\"text-align: right;\">\n",
              "      <th></th>\n",
              "      <th>Id</th>\n",
              "      <th>Bloco</th>\n",
              "      <th>Andar</th>\n",
              "      <th>Final</th>\n",
              "      <th>Sala</th>\n",
              "      <th>Cozinha</th>\n",
              "      <th>Banheiro</th>\n",
              "      <th>Dorm</th>\n",
              "      <th>Rachadura</th>\n",
              "      <th>Infiltr</th>\n",
              "    </tr>\n",
              "  </thead>\n",
              "  <tbody>\n",
              "    <tr>\n",
              "      <th>0</th>\n",
              "      <td>1</td>\n",
              "      <td>A</td>\n",
              "      <td>1</td>\n",
              "      <td>1</td>\n",
              "      <td>27.8</td>\n",
              "      <td>7.9</td>\n",
              "      <td>5.0</td>\n",
              "      <td>11.6</td>\n",
              "      <td>ausente</td>\n",
              "      <td>ausente</td>\n",
              "    </tr>\n",
              "    <tr>\n",
              "      <th>1</th>\n",
              "      <td>2</td>\n",
              "      <td>A</td>\n",
              "      <td>1</td>\n",
              "      <td>2</td>\n",
              "      <td>28.3</td>\n",
              "      <td>7.3</td>\n",
              "      <td>5.4</td>\n",
              "      <td>13.1</td>\n",
              "      <td>ausente</td>\n",
              "      <td>ausente</td>\n",
              "    </tr>\n",
              "    <tr>\n",
              "      <th>2</th>\n",
              "      <td>3</td>\n",
              "      <td>A</td>\n",
              "      <td>1</td>\n",
              "      <td>3</td>\n",
              "      <td>27.1</td>\n",
              "      <td>7.1</td>\n",
              "      <td>5.0</td>\n",
              "      <td>14.9</td>\n",
              "      <td>ausente</td>\n",
              "      <td>ausente</td>\n",
              "    </tr>\n",
              "    <tr>\n",
              "      <th>3</th>\n",
              "      <td>4</td>\n",
              "      <td>A</td>\n",
              "      <td>1</td>\n",
              "      <td>4</td>\n",
              "      <td>26.5</td>\n",
              "      <td>8.4</td>\n",
              "      <td>3.9</td>\n",
              "      <td>12.4</td>\n",
              "      <td>presente</td>\n",
              "      <td>presente</td>\n",
              "    </tr>\n",
              "    <tr>\n",
              "      <th>4</th>\n",
              "      <td>5</td>\n",
              "      <td>A</td>\n",
              "      <td>2</td>\n",
              "      <td>1</td>\n",
              "      <td>27.7</td>\n",
              "      <td>7.6</td>\n",
              "      <td>4.7</td>\n",
              "      <td>12.1</td>\n",
              "      <td>ausente</td>\n",
              "      <td>ausente</td>\n",
              "    </tr>\n",
              "    <tr>\n",
              "      <th>...</th>\n",
              "      <td>...</td>\n",
              "      <td>...</td>\n",
              "      <td>...</td>\n",
              "      <td>...</td>\n",
              "      <td>...</td>\n",
              "      <td>...</td>\n",
              "      <td>...</td>\n",
              "      <td>...</td>\n",
              "      <td>...</td>\n",
              "      <td>...</td>\n",
              "    </tr>\n",
              "    <tr>\n",
              "      <th>147</th>\n",
              "      <td>148</td>\n",
              "      <td>B</td>\n",
              "      <td>18</td>\n",
              "      <td>4</td>\n",
              "      <td>23.5</td>\n",
              "      <td>7.4</td>\n",
              "      <td>4.3</td>\n",
              "      <td>12.2</td>\n",
              "      <td>ausente</td>\n",
              "      <td>presente</td>\n",
              "    </tr>\n",
              "    <tr>\n",
              "      <th>148</th>\n",
              "      <td>149</td>\n",
              "      <td>B</td>\n",
              "      <td>19</td>\n",
              "      <td>1</td>\n",
              "      <td>24.1</td>\n",
              "      <td>8.3</td>\n",
              "      <td>4.8</td>\n",
              "      <td>12.9</td>\n",
              "      <td>ausente</td>\n",
              "      <td>ausente</td>\n",
              "    </tr>\n",
              "    <tr>\n",
              "      <th>149</th>\n",
              "      <td>150</td>\n",
              "      <td>B</td>\n",
              "      <td>19</td>\n",
              "      <td>2</td>\n",
              "      <td>24.1</td>\n",
              "      <td>8.0</td>\n",
              "      <td>4.5</td>\n",
              "      <td>10.9</td>\n",
              "      <td>ausente</td>\n",
              "      <td>ausente</td>\n",
              "    </tr>\n",
              "    <tr>\n",
              "      <th>150</th>\n",
              "      <td>151</td>\n",
              "      <td>B</td>\n",
              "      <td>19</td>\n",
              "      <td>3</td>\n",
              "      <td>23.0</td>\n",
              "      <td>8.5</td>\n",
              "      <td>4.3</td>\n",
              "      <td>11.7</td>\n",
              "      <td>ausente</td>\n",
              "      <td>presente</td>\n",
              "    </tr>\n",
              "    <tr>\n",
              "      <th>151</th>\n",
              "      <td>152</td>\n",
              "      <td>B</td>\n",
              "      <td>19</td>\n",
              "      <td>4</td>\n",
              "      <td>22.7</td>\n",
              "      <td>7.8</td>\n",
              "      <td>4.2</td>\n",
              "      <td>15.7</td>\n",
              "      <td>ausente</td>\n",
              "      <td>presente</td>\n",
              "    </tr>\n",
              "  </tbody>\n",
              "</table>\n",
              "<p>152 rows × 10 columns</p>\n",
              "</div>"
            ],
            "text/plain": [
              "      Id Bloco  Andar  Final  Sala  Cozinha  Banheiro  Dorm Rachadura  \\\n",
              "0      1     A      1      1  27.8      7.9       5.0  11.6   ausente   \n",
              "1      2     A      1      2  28.3      7.3       5.4  13.1   ausente   \n",
              "2      3     A      1      3  27.1      7.1       5.0  14.9   ausente   \n",
              "3      4     A      1      4  26.5      8.4       3.9  12.4  presente   \n",
              "4      5     A      2      1  27.7      7.6       4.7  12.1   ausente   \n",
              "..   ...   ...    ...    ...   ...      ...       ...   ...       ...   \n",
              "147  148     B     18      4  23.5      7.4       4.3  12.2   ausente   \n",
              "148  149     B     19      1  24.1      8.3       4.8  12.9   ausente   \n",
              "149  150     B     19      2  24.1      8.0       4.5  10.9   ausente   \n",
              "150  151     B     19      3  23.0      8.5       4.3  11.7   ausente   \n",
              "151  152     B     19      4  22.7      7.8       4.2  15.7   ausente   \n",
              "\n",
              "      Infiltr  \n",
              "0     ausente  \n",
              "1     ausente  \n",
              "2     ausente  \n",
              "3    presente  \n",
              "4     ausente  \n",
              "..        ...  \n",
              "147  presente  \n",
              "148   ausente  \n",
              "149   ausente  \n",
              "150  presente  \n",
              "151  presente  \n",
              "\n",
              "[152 rows x 10 columns]"
            ]
          },
          "execution_count": 7,
          "metadata": {},
          "output_type": "execute_result"
        }
      ],
      "execution_count": 7
    },
    {
      "cell_type": "markdown",
      "source": "# Questão 1-A",
      "metadata": {
        "id": "QNXZKy1Pa-ni"
      }
    },
    {
      "cell_type": "code",
      "source": "len(areas)",
      "metadata": {
        "colab": {
          "base_uri": "https://localhost:8080/"
        },
        "id": "oHOouacqP5Cr",
        "outputId": "eaee3e2b-4843-4501-cfb5-5ef4e254efb2",
        "tags": []
      },
      "outputs": [
        {
          "data": {
            "text/plain": [
              "152"
            ]
          },
          "execution_count": 8,
          "metadata": {},
          "output_type": "execute_result"
        }
      ],
      "execution_count": 8
    },
    {
      "cell_type": "markdown",
      "source": "# B",
      "metadata": {
        "id": "cNpqRu5ybBQV"
      }
    },
    {
      "cell_type": "code",
      "source": "tabela_bloco = areas['Bloco'].value_counts()\ntabela_bloco",
      "metadata": {
        "colab": {
          "base_uri": "https://localhost:8080/",
          "height": 178
        },
        "id": "0gCPuICPRs0I",
        "outputId": "b6313b53-c6fe-4acc-f4b3-5b9bca017c07",
        "tags": []
      },
      "outputs": [
        {
          "data": {
            "text/plain": [
              "Bloco\n",
              "A    76\n",
              "B    76\n",
              "Name: count, dtype: int64"
            ]
          },
          "execution_count": 9,
          "metadata": {},
          "output_type": "execute_result"
        }
      ],
      "execution_count": 9
    },
    {
      "cell_type": "markdown",
      "source": "# C",
      "metadata": {
        "id": "N0ODC0lZbEdJ"
      }
    },
    {
      "cell_type": "code",
      "source": "tabela_andar = areas['Andar'].value_counts()\ntabela_andar",
      "metadata": {
        "colab": {
          "base_uri": "https://localhost:8080/",
          "height": 711
        },
        "id": "01btBTSXR9OD",
        "outputId": "9fbd5938-9c3a-4c40-d098-e2720a9dbdbf",
        "tags": []
      },
      "outputs": [
        {
          "data": {
            "text/plain": [
              "Andar\n",
              "1     8\n",
              "11    8\n",
              "18    8\n",
              "17    8\n",
              "16    8\n",
              "15    8\n",
              "14    8\n",
              "13    8\n",
              "12    8\n",
              "10    8\n",
              "2     8\n",
              "9     8\n",
              "8     8\n",
              "7     8\n",
              "6     8\n",
              "5     8\n",
              "4     8\n",
              "3     8\n",
              "19    8\n",
              "Name: count, dtype: int64"
            ]
          },
          "execution_count": 10,
          "metadata": {},
          "output_type": "execute_result"
        }
      ],
      "execution_count": 10
    },
    {
      "cell_type": "markdown",
      "source": "## Questão 2",
      "metadata": {
        "id": "YNLwKprobHxQ"
      }
    },
    {
      "cell_type": "code",
      "source": "areas['Area Total'] = areas['Sala'] + areas['Cozinha'] + areas['Banheiro'] + areas['Dorm']\nareas",
      "metadata": {
        "colab": {
          "base_uri": "https://localhost:8080/",
          "height": 461
        },
        "id": "HJ0RNsUsSAo8",
        "outputId": "38dbf0cc-4224-4a49-f5cc-c5593e5f1421",
        "tags": []
      },
      "outputs": [
        {
          "data": {
            "text/html": [
              "<div>\n",
              "<style scoped>\n",
              "    .dataframe tbody tr th:only-of-type {\n",
              "        vertical-align: middle;\n",
              "    }\n",
              "\n",
              "    .dataframe tbody tr th {\n",
              "        vertical-align: top;\n",
              "    }\n",
              "\n",
              "    .dataframe thead th {\n",
              "        text-align: right;\n",
              "    }\n",
              "</style>\n",
              "<table border=\"1\" class=\"dataframe\">\n",
              "  <thead>\n",
              "    <tr style=\"text-align: right;\">\n",
              "      <th></th>\n",
              "      <th>Id</th>\n",
              "      <th>Bloco</th>\n",
              "      <th>Andar</th>\n",
              "      <th>Final</th>\n",
              "      <th>Sala</th>\n",
              "      <th>Cozinha</th>\n",
              "      <th>Banheiro</th>\n",
              "      <th>Dorm</th>\n",
              "      <th>Rachadura</th>\n",
              "      <th>Infiltr</th>\n",
              "      <th>Area Total</th>\n",
              "    </tr>\n",
              "  </thead>\n",
              "  <tbody>\n",
              "    <tr>\n",
              "      <th>0</th>\n",
              "      <td>1</td>\n",
              "      <td>A</td>\n",
              "      <td>1</td>\n",
              "      <td>1</td>\n",
              "      <td>27.8</td>\n",
              "      <td>7.9</td>\n",
              "      <td>5.0</td>\n",
              "      <td>11.6</td>\n",
              "      <td>ausente</td>\n",
              "      <td>ausente</td>\n",
              "      <td>52.3</td>\n",
              "    </tr>\n",
              "    <tr>\n",
              "      <th>1</th>\n",
              "      <td>2</td>\n",
              "      <td>A</td>\n",
              "      <td>1</td>\n",
              "      <td>2</td>\n",
              "      <td>28.3</td>\n",
              "      <td>7.3</td>\n",
              "      <td>5.4</td>\n",
              "      <td>13.1</td>\n",
              "      <td>ausente</td>\n",
              "      <td>ausente</td>\n",
              "      <td>54.1</td>\n",
              "    </tr>\n",
              "    <tr>\n",
              "      <th>2</th>\n",
              "      <td>3</td>\n",
              "      <td>A</td>\n",
              "      <td>1</td>\n",
              "      <td>3</td>\n",
              "      <td>27.1</td>\n",
              "      <td>7.1</td>\n",
              "      <td>5.0</td>\n",
              "      <td>14.9</td>\n",
              "      <td>ausente</td>\n",
              "      <td>ausente</td>\n",
              "      <td>54.1</td>\n",
              "    </tr>\n",
              "    <tr>\n",
              "      <th>3</th>\n",
              "      <td>4</td>\n",
              "      <td>A</td>\n",
              "      <td>1</td>\n",
              "      <td>4</td>\n",
              "      <td>26.5</td>\n",
              "      <td>8.4</td>\n",
              "      <td>3.9</td>\n",
              "      <td>12.4</td>\n",
              "      <td>presente</td>\n",
              "      <td>presente</td>\n",
              "      <td>51.2</td>\n",
              "    </tr>\n",
              "    <tr>\n",
              "      <th>4</th>\n",
              "      <td>5</td>\n",
              "      <td>A</td>\n",
              "      <td>2</td>\n",
              "      <td>1</td>\n",
              "      <td>27.7</td>\n",
              "      <td>7.6</td>\n",
              "      <td>4.7</td>\n",
              "      <td>12.1</td>\n",
              "      <td>ausente</td>\n",
              "      <td>ausente</td>\n",
              "      <td>52.1</td>\n",
              "    </tr>\n",
              "    <tr>\n",
              "      <th>...</th>\n",
              "      <td>...</td>\n",
              "      <td>...</td>\n",
              "      <td>...</td>\n",
              "      <td>...</td>\n",
              "      <td>...</td>\n",
              "      <td>...</td>\n",
              "      <td>...</td>\n",
              "      <td>...</td>\n",
              "      <td>...</td>\n",
              "      <td>...</td>\n",
              "      <td>...</td>\n",
              "    </tr>\n",
              "    <tr>\n",
              "      <th>147</th>\n",
              "      <td>148</td>\n",
              "      <td>B</td>\n",
              "      <td>18</td>\n",
              "      <td>4</td>\n",
              "      <td>23.5</td>\n",
              "      <td>7.4</td>\n",
              "      <td>4.3</td>\n",
              "      <td>12.2</td>\n",
              "      <td>ausente</td>\n",
              "      <td>presente</td>\n",
              "      <td>47.4</td>\n",
              "    </tr>\n",
              "    <tr>\n",
              "      <th>148</th>\n",
              "      <td>149</td>\n",
              "      <td>B</td>\n",
              "      <td>19</td>\n",
              "      <td>1</td>\n",
              "      <td>24.1</td>\n",
              "      <td>8.3</td>\n",
              "      <td>4.8</td>\n",
              "      <td>12.9</td>\n",
              "      <td>ausente</td>\n",
              "      <td>ausente</td>\n",
              "      <td>50.1</td>\n",
              "    </tr>\n",
              "    <tr>\n",
              "      <th>149</th>\n",
              "      <td>150</td>\n",
              "      <td>B</td>\n",
              "      <td>19</td>\n",
              "      <td>2</td>\n",
              "      <td>24.1</td>\n",
              "      <td>8.0</td>\n",
              "      <td>4.5</td>\n",
              "      <td>10.9</td>\n",
              "      <td>ausente</td>\n",
              "      <td>ausente</td>\n",
              "      <td>47.5</td>\n",
              "    </tr>\n",
              "    <tr>\n",
              "      <th>150</th>\n",
              "      <td>151</td>\n",
              "      <td>B</td>\n",
              "      <td>19</td>\n",
              "      <td>3</td>\n",
              "      <td>23.0</td>\n",
              "      <td>8.5</td>\n",
              "      <td>4.3</td>\n",
              "      <td>11.7</td>\n",
              "      <td>ausente</td>\n",
              "      <td>presente</td>\n",
              "      <td>47.5</td>\n",
              "    </tr>\n",
              "    <tr>\n",
              "      <th>151</th>\n",
              "      <td>152</td>\n",
              "      <td>B</td>\n",
              "      <td>19</td>\n",
              "      <td>4</td>\n",
              "      <td>22.7</td>\n",
              "      <td>7.8</td>\n",
              "      <td>4.2</td>\n",
              "      <td>15.7</td>\n",
              "      <td>ausente</td>\n",
              "      <td>presente</td>\n",
              "      <td>50.4</td>\n",
              "    </tr>\n",
              "  </tbody>\n",
              "</table>\n",
              "<p>152 rows × 11 columns</p>\n",
              "</div>"
            ],
            "text/plain": [
              "      Id Bloco  Andar  Final  Sala  Cozinha  Banheiro  Dorm Rachadura  \\\n",
              "0      1     A      1      1  27.8      7.9       5.0  11.6   ausente   \n",
              "1      2     A      1      2  28.3      7.3       5.4  13.1   ausente   \n",
              "2      3     A      1      3  27.1      7.1       5.0  14.9   ausente   \n",
              "3      4     A      1      4  26.5      8.4       3.9  12.4  presente   \n",
              "4      5     A      2      1  27.7      7.6       4.7  12.1   ausente   \n",
              "..   ...   ...    ...    ...   ...      ...       ...   ...       ...   \n",
              "147  148     B     18      4  23.5      7.4       4.3  12.2   ausente   \n",
              "148  149     B     19      1  24.1      8.3       4.8  12.9   ausente   \n",
              "149  150     B     19      2  24.1      8.0       4.5  10.9   ausente   \n",
              "150  151     B     19      3  23.0      8.5       4.3  11.7   ausente   \n",
              "151  152     B     19      4  22.7      7.8       4.2  15.7   ausente   \n",
              "\n",
              "      Infiltr  Area Total  \n",
              "0     ausente        52.3  \n",
              "1     ausente        54.1  \n",
              "2     ausente        54.1  \n",
              "3    presente        51.2  \n",
              "4     ausente        52.1  \n",
              "..        ...         ...  \n",
              "147  presente        47.4  \n",
              "148   ausente        50.1  \n",
              "149   ausente        47.5  \n",
              "150  presente        47.5  \n",
              "151  presente        50.4  \n",
              "\n",
              "[152 rows x 11 columns]"
            ]
          },
          "execution_count": 11,
          "metadata": {},
          "output_type": "execute_result"
        }
      ],
      "execution_count": 11
    },
    {
      "cell_type": "markdown",
      "source": "## Questão 3",
      "metadata": {
        "id": "EpuMJnEkbLY4"
      }
    },
    {
      "cell_type": "code",
      "source": "import matplotlib.pyplot as plt",
      "metadata": {
        "id": "OKUBZTuCbO1p",
        "tags": []
      },
      "outputs": [],
      "execution_count": 12
    },
    {
      "cell_type": "markdown",
      "source": "# Sala",
      "metadata": {
        "id": "n4IoW2SUbTQd"
      }
    },
    {
      "cell_type": "code",
      "source": "plt.hist(areas['Sala'], bins = 8, edgecolor = \"black\", color = \"pink\")\nplt.title(\"Distribuição das áreas\")\nplt.xlabel(\"Sala\")\nplt.ylabel(\"Tamanho\")",
      "metadata": {
        "colab": {
          "base_uri": "https://localhost:8080/",
          "height": 489
        },
        "id": "bNIOuj4uSET8",
        "outputId": "56e99e50-fd39-4805-df79-1552337295b4",
        "tags": []
      },
      "outputs": [
        {
          "data": {
            "text/plain": [
              "Text(0, 0.5, 'Tamanho')"
            ]
          },
          "execution_count": 13,
          "metadata": {},
          "output_type": "execute_result"
        },
        {
          "data": {
            "image/png": "[encoded data removed]",
            "text/plain": [
              "<Figure size 640x480 with 1 Axes>"
            ]
          },
          "metadata": {},
          "output_type": "display_data"
        }
      ],
      "execution_count": 13
    },
    {
      "cell_type": "markdown",
      "source": "# Cozinha",
      "metadata": {
        "id": "a7RSE3z5bVGE"
      }
    },
    {
      "cell_type": "code",
      "source": "plt.hist(areas['Cozinha'], bins = 8, edgecolor = \"black\", color = \"pink\")\nplt.title(\"Distribuição das áreas\")\nplt.xlabel(\"Cozinha\")\nplt.ylabel(\"Área\")",
      "metadata": {
        "colab": {
          "base_uri": "https://localhost:8080/",
          "height": 489
        },
        "id": "3d6tRePgSJwU",
        "outputId": "fea08815-8770-48a4-d8c3-147eab69c061",
        "tags": []
      },
      "outputs": [
        {
          "data": {
            "text/plain": [
              "Text(0, 0.5, 'Área')"
            ]
          },
          "execution_count": 14,
          "metadata": {},
          "output_type": "execute_result"
        },
        {
          "data": {
            "image/png": "[encoded data removed]",
            "text/plain": [
              "<Figure size 640x480 with 1 Axes>"
            ]
          },
          "metadata": {},
          "output_type": "display_data"
        }
      ],
      "execution_count": 14
    },
    {
      "cell_type": "markdown",
      "source": "# Banheiro",
      "metadata": {
        "id": "ahcJb67dbXUC"
      }
    },
    {
      "cell_type": "code",
      "source": "plt.hist(areas['Banheiro'], bins = 8, edgecolor = \"black\", color = \"pink\")\nplt.title(\"Distribuição das áreas\")\nplt.xlabel(\"Banheiro\")\nplt.ylabel(\"Área\")",
      "metadata": {
        "colab": {
          "base_uri": "https://localhost:8080/",
          "height": 489
        },
        "id": "OqVCaVX1SMfq",
        "outputId": "0cf65988-f8ef-425a-c45d-f14cfe216575",
        "tags": []
      },
      "outputs": [
        {
          "data": {
            "text/plain": [
              "Text(0, 0.5, 'Área')"
            ]
          },
          "execution_count": 15,
          "metadata": {},
          "output_type": "execute_result"
        },
        {
          "data": {
            "image/png": "[encoded data removed]",
            "text/plain": [
              "<Figure size 640x480 with 1 Axes>"
            ]
          },
          "metadata": {},
          "output_type": "display_data"
        }
      ],
      "execution_count": 15
    },
    {
      "cell_type": "markdown",
      "source": "# Dormitório",
      "metadata": {
        "id": "sfGCJFpobZUs"
      }
    },
    {
      "cell_type": "code",
      "source": "plt.hist(areas['Dorm'], bins = 8, edgecolor = \"black\", color = \"pink\")\nplt.title(\"Distribuição das áreas\")\nplt.xlabel(\"Dormitório\")\nplt.ylabel(\"Área\")",
      "metadata": {
        "colab": {
          "base_uri": "https://localhost:8080/",
          "height": 489
        },
        "id": "bdQ3hyhtSO19",
        "outputId": "91721432-c5ea-44b3-f4b8-ecac510e062b",
        "tags": []
      },
      "outputs": [
        {
          "data": {
            "text/plain": [
              "Text(0, 0.5, 'Área')"
            ]
          },
          "execution_count": 16,
          "metadata": {},
          "output_type": "execute_result"
        },
        {
          "data": {
            "image/png": "[encoded data removed]",
            "text/plain": [
              "<Figure size 640x480 with 1 Axes>"
            ]
          },
          "metadata": {},
          "output_type": "display_data"
        }
      ],
      "execution_count": 16
    },
    {
      "cell_type": "markdown",
      "source": "# Área Total",
      "metadata": {
        "id": "CNQXboagbbhE"
      }
    },
    {
      "cell_type": "code",
      "source": "plt.hist(areas['Area Total'], bins = 8, edgecolor = \"black\", color = \"pink\")\nplt.title(\"Distribuição das áreas\")\nplt.xlabel(\"Apartamentos\")\nplt.ylabel(\"Área\")",
      "metadata": {
        "colab": {
          "base_uri": "https://localhost:8080/",
          "height": 489
        },
        "id": "hzAomO1CRxcW",
        "outputId": "56a212eb-e172-4165-a311-d0a57daafe56",
        "tags": []
      },
      "outputs": [
        {
          "data": {
            "text/plain": [
              "Text(0, 0.5, 'Área')"
            ]
          },
          "execution_count": 17,
          "metadata": {},
          "output_type": "execute_result"
        },
        {
          "data": {
            "image/png": "[encoded data removed]",
            "text/plain": [
              "<Figure size 640x480 with 1 Axes>"
            ]
          },
          "metadata": {},
          "output_type": "display_data"
        }
      ],
      "execution_count": 17
    },
    {
      "cell_type": "markdown",
      "source": "# **Questão 4-A**\n## Sala",
      "metadata": {
        "id": "eKPjzmRjVQX6"
      }
    },
    {
      "cell_type": "code",
      "source": "areas.groupby(['Bloco'])['Sala'].mean()",
      "metadata": {
        "colab": {
          "base_uri": "https://localhost:8080/",
          "height": 178
        },
        "id": "_xyp5jNbSqfP",
        "outputId": "688ed748-5f7a-44e9-fea5-77f728a08f6f",
        "tags": []
      },
      "outputs": [
        {
          "data": {
            "text/plain": [
              "Bloco\n",
              "A    28.093421\n",
              "B    23.131579\n",
              "Name: Sala, dtype: float64"
            ]
          },
          "execution_count": 18,
          "metadata": {},
          "output_type": "execute_result"
        }
      ],
      "execution_count": 18
    },
    {
      "cell_type": "code",
      "source": "areas.groupby(['Bloco'])['Sala'].std()",
      "metadata": {
        "colab": {
          "base_uri": "https://localhost:8080/",
          "height": 178
        },
        "id": "TJZr4AwnUYFV",
        "outputId": "316e057b-414a-4e14-fc03-81d506e2817d",
        "tags": []
      },
      "outputs": [
        {
          "data": {
            "text/plain": [
              "Bloco\n",
              "A    1.082631\n",
              "B    0.848875\n",
              "Name: Sala, dtype: float64"
            ]
          },
          "execution_count": 19,
          "metadata": {},
          "output_type": "execute_result"
        }
      ],
      "execution_count": 19
    },
    {
      "cell_type": "markdown",
      "source": "# Cozinha",
      "metadata": {
        "id": "R_xah-xzVeoM"
      }
    },
    {
      "cell_type": "code",
      "source": "areas.groupby(['Bloco'])['Cozinha'].mean()",
      "metadata": {
        "colab": {
          "base_uri": "https://localhost:8080/",
          "height": 178
        },
        "id": "sh1rbOHDUcRn",
        "outputId": "b1c3cbe5-1109-41cc-9f6c-95e7a0358f16",
        "tags": []
      },
      "outputs": [
        {
          "data": {
            "text/plain": [
              "Bloco\n",
              "A    7.928947\n",
              "B    7.881579\n",
              "Name: Cozinha, dtype: float64"
            ]
          },
          "execution_count": 20,
          "metadata": {},
          "output_type": "execute_result"
        }
      ],
      "execution_count": 20
    },
    {
      "cell_type": "code",
      "source": "areas.groupby(['Bloco'])['Cozinha'].std()",
      "metadata": {
        "colab": {
          "base_uri": "https://localhost:8080/",
          "height": 178
        },
        "id": "KF-IvJCwUq2a",
        "outputId": "0c6adaac-b92b-4fda-cd7e-b024bdde3db4"
      },
      "outputs": [
        {
          "data": {
            "text/html": [
              "<div>\n",
              "<style scoped>\n",
              "    .dataframe tbody tr th:only-of-type {\n",
              "        vertical-align: middle;\n",
              "    }\n",
              "\n",
              "    .dataframe tbody tr th {\n",
              "        vertical-align: top;\n",
              "    }\n",
              "\n",
              "    .dataframe thead th {\n",
              "        text-align: right;\n",
              "    }\n",
              "</style>\n",
              "<table border=\"1\" class=\"dataframe\">\n",
              "  <thead>\n",
              "    <tr style=\"text-align: right;\">\n",
              "      <th></th>\n",
              "      <th>Cozinha</th>\n",
              "    </tr>\n",
              "    <tr>\n",
              "      <th>Bloco</th>\n",
              "      <th></th>\n",
              "    </tr>\n",
              "  </thead>\n",
              "  <tbody>\n",
              "    <tr>\n",
              "      <th>A</th>\n",
              "      <td>0.465279</td>\n",
              "    </tr>\n",
              "    <tr>\n",
              "      <th>B</th>\n",
              "      <td>0.604805</td>\n",
              "    </tr>\n",
              "  </tbody>\n",
              "</table>\n",
              "</div><br><label><b>dtype:</b> float64</label>"
            ],
            "text/plain": [
              "Bloco\n",
              "A    0.465279\n",
              "B    0.604805\n",
              "Name: Cozinha, dtype: float64"
            ]
          },
          "execution_count": 22,
          "metadata": {},
          "output_type": "execute_result"
        }
      ],
      "execution_count": null
    },
    {
      "cell_type": "markdown",
      "source": "# Banheiro",
      "metadata": {
        "id": "yZ4hJE_0Vhyq"
      }
    },
    {
      "cell_type": "code",
      "source": "areas.groupby(['Bloco'])['Banheiro'].mean()",
      "metadata": {
        "colab": {
          "base_uri": "https://localhost:8080/",
          "height": 178
        },
        "id": "ucPigs8pU10C",
        "outputId": "1ea3771e-bd1d-44fd-9bd4-2f7cb692bb80",
        "tags": []
      },
      "outputs": [
        {
          "data": {
            "text/plain": [
              "Bloco\n",
              "A    4.450000\n",
              "B    4.464474\n",
              "Name: Banheiro, dtype: float64"
            ]
          },
          "execution_count": 21,
          "metadata": {},
          "output_type": "execute_result"
        }
      ],
      "execution_count": 21
    },
    {
      "cell_type": "code",
      "source": "areas.groupby(['Bloco'])['Banheiro'].std()",
      "metadata": {
        "colab": {
          "base_uri": "https://localhost:8080/",
          "height": 178
        },
        "id": "8Q1wmlH-U3EW",
        "outputId": "78a06458-1eb2-4e8f-f47c-f2d6cc198063",
        "tags": []
      },
      "outputs": [
        {
          "data": {
            "text/plain": [
              "Bloco\n",
              "A    0.462313\n",
              "B    0.515805\n",
              "Name: Banheiro, dtype: float64"
            ]
          },
          "execution_count": 22,
          "metadata": {},
          "output_type": "execute_result"
        }
      ],
      "execution_count": 22
    },
    {
      "cell_type": "markdown",
      "source": "# Dormitório",
      "metadata": {
        "id": "I9qq8ULrVkJF"
      }
    },
    {
      "cell_type": "code",
      "source": "areas.groupby(['Bloco'])['Dorm'].mean()",
      "metadata": {
        "colab": {
          "base_uri": "https://localhost:8080/",
          "height": 178
        },
        "id": "MWqZ1NxSU9GV",
        "outputId": "2c544215-56dd-405c-f5c3-2e6f9f5db65d",
        "tags": []
      },
      "outputs": [
        {
          "data": {
            "text/plain": [
              "Bloco\n",
              "A    12.950000\n",
              "B    12.928947\n",
              "Name: Dorm, dtype: float64"
            ]
          },
          "execution_count": 23,
          "metadata": {},
          "output_type": "execute_result"
        }
      ],
      "execution_count": 23
    },
    {
      "cell_type": "code",
      "source": "areas.groupby(['Bloco'])['Dorm'].std()",
      "metadata": {
        "colab": {
          "base_uri": "https://localhost:8080/",
          "height": 178
        },
        "id": "dSUmqWrmU830",
        "outputId": "1ace448b-da99-4926-c52a-e78ffd63c568"
      },
      "outputs": [
        {
          "data": {
            "text/html": [
              "<div>\n",
              "<style scoped>\n",
              "    .dataframe tbody tr th:only-of-type {\n",
              "        vertical-align: middle;\n",
              "    }\n",
              "\n",
              "    .dataframe tbody tr th {\n",
              "        vertical-align: top;\n",
              "    }\n",
              "\n",
              "    .dataframe thead th {\n",
              "        text-align: right;\n",
              "    }\n",
              "</style>\n",
              "<table border=\"1\" class=\"dataframe\">\n",
              "  <thead>\n",
              "    <tr style=\"text-align: right;\">\n",
              "      <th></th>\n",
              "      <th>Dorm</th>\n",
              "    </tr>\n",
              "    <tr>\n",
              "      <th>Bloco</th>\n",
              "      <th></th>\n",
              "    </tr>\n",
              "  </thead>\n",
              "  <tbody>\n",
              "    <tr>\n",
              "      <th>A</th>\n",
              "      <td>1.172860</td>\n",
              "    </tr>\n",
              "    <tr>\n",
              "      <th>B</th>\n",
              "      <td>1.176528</td>\n",
              "    </tr>\n",
              "  </tbody>\n",
              "</table>\n",
              "</div><br><label><b>dtype:</b> float64</label>"
            ],
            "text/plain": [
              "Bloco\n",
              "A    1.172860\n",
              "B    1.176528\n",
              "Name: Dorm, dtype: float64"
            ]
          },
          "execution_count": 27,
          "metadata": {},
          "output_type": "execute_result"
        }
      ],
      "execution_count": null
    },
    {
      "cell_type": "markdown",
      "source": "# Área Total",
      "metadata": {
        "id": "0wqgxDtFVnpY"
      }
    },
    {
      "cell_type": "code",
      "source": "areas.groupby(['Bloco'])['Area Total'].mean()",
      "metadata": {
        "colab": {
          "base_uri": "https://localhost:8080/",
          "height": 178
        },
        "id": "dlQWwl71VCNg",
        "outputId": "19999029-6e94-4aa1-871f-30cb83585e3e",
        "tags": []
      },
      "outputs": [
        {
          "data": {
            "text/plain": [
              "Bloco\n",
              "A    53.422368\n",
              "B    48.406579\n",
              "Name: Area Total, dtype: float64"
            ]
          },
          "execution_count": 24,
          "metadata": {},
          "output_type": "execute_result"
        }
      ],
      "execution_count": 24
    },
    {
      "cell_type": "code",
      "source": "areas.groupby(['Bloco'])['Area Total'].std()",
      "metadata": {
        "colab": {
          "base_uri": "https://localhost:8080/",
          "height": 178
        },
        "id": "_hZocTmdVCFY",
        "outputId": "ce1db833-b237-4c07-db21-1e6b2a0590f5",
        "tags": []
      },
      "outputs": [
        {
          "data": {
            "text/plain": [
              "Bloco\n",
              "A    1.771749\n",
              "B    1.537906\n",
              "Name: Area Total, dtype: float64"
            ]
          },
          "execution_count": 25,
          "metadata": {},
          "output_type": "execute_result"
        }
      ],
      "execution_count": 25
    },
    {
      "cell_type": "markdown",
      "source": "# Questão 4-B",
      "metadata": {
        "id": "K1ogpFSdXCrl"
      }
    },
    {
      "cell_type": "code",
      "source": "import seaborn as sns",
      "metadata": {
        "id": "oWua_DoHWafv",
        "tags": []
      },
      "outputs": [],
      "execution_count": 26
    },
    {
      "cell_type": "markdown",
      "source": "# Sala",
      "metadata": {
        "id": "WIfHpgRwXNCn"
      }
    },
    {
      "cell_type": "code",
      "source": "sns.boxplot( x = 'Bloco', y = 'Sala', data = areas)",
      "metadata": {
        "colab": {
          "base_uri": "https://localhost:8080/",
          "height": 466
        },
        "id": "ywyLOrSUWchR",
        "outputId": "de9ea600-0303-4051-cbf1-75b969e7338b",
        "tags": []
      },
      "outputs": [
        {
          "data": {
            "text/plain": [
              "<Axes: xlabel='Bloco', ylabel='Sala'>"
            ]
          },
          "execution_count": 27,
          "metadata": {},
          "output_type": "execute_result"
        },
        {
          "data": {
            "image/png": "[encoded data removed]",
            "text/plain": [
              "<Figure size 640x480 with 1 Axes>"
            ]
          },
          "metadata": {},
          "output_type": "display_data"
        }
      ],
      "execution_count": 27
    },
    {
      "cell_type": "markdown",
      "source": "# Cozinha",
      "metadata": {
        "id": "iwvmb6ShXkg0"
      }
    },
    {
      "cell_type": "code",
      "source": "sns.boxplot( x = 'Bloco', y = 'Cozinha', data = areas)",
      "metadata": {
        "colab": {
          "base_uri": "https://localhost:8080/",
          "height": 466
        },
        "id": "105LmPLVXYc3",
        "outputId": "9e6f27cc-44e7-4964-e75a-6e017434f3e4",
        "tags": []
      },
      "outputs": [
        {
          "data": {
            "text/plain": [
              "<Axes: xlabel='Bloco', ylabel='Cozinha'>"
            ]
          },
          "execution_count": 28,
          "metadata": {},
          "output_type": "execute_result"
        },
        {
          "data": {
            "image/png": "[encoded data removed]",
            "text/plain": [
              "<Figure size 640x480 with 1 Axes>"
            ]
          },
          "metadata": {},
          "output_type": "display_data"
        }
      ],
      "execution_count": 28
    },
    {
      "cell_type": "markdown",
      "source": "# Banheiro",
      "metadata": {
        "id": "mbp0VcwTXmPU"
      }
    },
    {
      "cell_type": "code",
      "source": "sns.boxplot( x = 'Bloco', y = 'Banheiro', data = areas)",
      "metadata": {
        "colab": {
          "base_uri": "https://localhost:8080/",
          "height": 466
        },
        "id": "7PyDWFE6XaG8",
        "outputId": "0e4390b8-c238-499a-d0b7-385d27ba5e04",
        "tags": []
      },
      "outputs": [
        {
          "data": {
            "text/plain": [
              "<Axes: xlabel='Bloco', ylabel='Banheiro'>"
            ]
          },
          "execution_count": 29,
          "metadata": {},
          "output_type": "execute_result"
        },
        {
          "data": {
            "image/png": "[encoded data removed]",
            "text/plain": [
              "<Figure size 640x480 with 1 Axes>"
            ]
          },
          "metadata": {},
          "output_type": "display_data"
        }
      ],
      "execution_count": 29
    },
    {
      "cell_type": "markdown",
      "source": "# Dormitório",
      "metadata": {
        "id": "idZt2QTAXoJk"
      }
    },
    {
      "cell_type": "code",
      "source": "sns.boxplot( x = 'Bloco', y = 'Dorm', data = areas)",
      "metadata": {
        "colab": {
          "base_uri": "https://localhost:8080/",
          "height": 466
        },
        "id": "Q0lSQUD-XZkk",
        "outputId": "c817ea6d-0e0f-4cae-9b1c-e41676f1e311",
        "tags": []
      },
      "outputs": [
        {
          "data": {
            "text/plain": [
              "<Axes: xlabel='Bloco', ylabel='Dorm'>"
            ]
          },
          "execution_count": 30,
          "metadata": {},
          "output_type": "execute_result"
        },
        {
          "data": {
            "image/png": "[encoded data removed]",
            "text/plain": [
              "<Figure size 640x480 with 1 Axes>"
            ]
          },
          "metadata": {},
          "output_type": "display_data"
        }
      ],
      "execution_count": 30
    },
    {
      "cell_type": "markdown",
      "source": "# C\nSim, as salas.",
      "metadata": {
        "id": "hEzamNM8YHfJ"
      }
    },
    {
      "cell_type": "code",
      "source": "",
      "metadata": {
        "trusted": true
      },
      "outputs": [],
      "execution_count": null
    }
  ]
}