{
  "cells": [
    {
      "cell_type": "markdown",
      "metadata": {
        "id": "ZJEg1juym-c1"
      },
      "source": [
        "**Exercício 1**"
      ]
    },
    {
      "cell_type": "code",
      "execution_count": 1,
      "metadata": {
        "colab": {
          "base_uri": "https://localhost:8080/"
        },
        "id": "nF7lgsC2nLKX",
        "outputId": "ec154cd8-4a07-4216-8c80-60272c4fa0a4"
      },
      "outputs": [
        {
          "output_type": "stream",
          "name": "stdout",
          "text": [
            "Meu nome é Pamella, tenho 21 anos e minha altura é 1,62 metros.\n"
          ]
        }
      ],
      "source": [
        "# Crie uma variável chamada nome e atribua o seu nome a ela.\n",
        "nome = \"Pamella\"\n",
        "# Crie uma variável chamada idade e atribua sua idade a ela.\n",
        "idade = \"21\"\n",
        "# Crie uma variável chamada altura e atribua sua altura (em metros) a ela.\n",
        "altura = \"1,62\"\n",
        "# Mostre na tela a concatenação das informações: \"Meu nome é [nome], tenho [idade] anos e minha altura é [altura] metros.\"\n",
        "print(\"Meu nome é {a}, tenho {b} anos e minha altura é {c} metros.\".format(a = nome, b = idade, c = altura))"
      ]
    },
    {
      "cell_type": "markdown",
      "metadata": {
        "id": "2Jz4rghCoO7E"
      },
      "source": [
        "**Exercício 2**"
      ]
    },
    {
      "cell_type": "code",
      "execution_count": 2,
      "metadata": {
        "colab": {
          "base_uri": "https://localhost:8080/"
        },
        "id": "dEgeiPb2oSFI",
        "outputId": "c43ad763-4dae-4658-9a90-4e015f28217a"
      },
      "outputs": [
        {
          "output_type": "stream",
          "name": "stdout",
          "text": [
            "PYTHON É UMA LINGUAGEM DE PROGRAMAÇÃO MUITO PODEROSA.\n"
          ]
        }
      ],
      "source": [
        "# Crie uma variável chamada frase e atribua a seguinte frase a ela:\n",
        "# \"Python é uma linguagem de programação muito poderosa.\"\n",
        "\n",
        "frase = \"Python é uma linguagem de programação muito poderosa.\"\n",
        "\n",
        "# Utilize o método .upper() para transformar toda a frase em maiúsculas e imprima o resultado.\n",
        "print(frase.upper())"
      ]
    },
    {
      "cell_type": "code",
      "execution_count": 3,
      "metadata": {
        "colab": {
          "base_uri": "https://localhost:8080/"
        },
        "id": "PdPo4yB9pQdE",
        "outputId": "25549f73-0ba0-48b7-d833-a31aed3db9bb"
      },
      "outputs": [
        {
          "output_type": "stream",
          "name": "stdout",
          "text": [
            "python é uma linguagem de programação muito poderosa.\n"
          ]
        }
      ],
      "source": [
        "# Utilize o método .lower() para transformar toda a frase em minúsculas e imprima o resultado.\n",
        "print(frase.lower())"
      ]
    },
    {
      "cell_type": "code",
      "execution_count": 4,
      "metadata": {
        "colab": {
          "base_uri": "https://localhost:8080/"
        },
        "id": "doH_905Dpm_B",
        "outputId": "bf416460-a925-44eb-f05b-7479cae7a78b"
      },
      "outputs": [
        {
          "output_type": "stream",
          "name": "stdout",
          "text": [
            "Python é uma linguagem de programação extremamente poderosa.\n"
          ]
        }
      ],
      "source": [
        "# Utilize o método .replace() para substituir a palavra \"muito\" por \"extremamente\". Imprima o resultado.\n",
        "print(frase.replace(\"muito\",\"extremamente\"))"
      ]
    },
    {
      "cell_type": "code",
      "execution_count": 5,
      "metadata": {
        "colab": {
          "base_uri": "https://localhost:8080/"
        },
        "id": "WPYG_jsZqJXs",
        "outputId": "e4de94c9-fe36-496d-87f8-a4a7105b6eba"
      },
      "outputs": [
        {
          "output_type": "execute_result",
          "data": {
            "text/plain": [
              "['Python', 'é', 'uma', 'linguagem', 'de', 'programação', 'muito', 'poderosa.']"
            ]
          },
          "metadata": {},
          "execution_count": 5
        }
      ],
      "source": [
        "# Utilize o método .split() para dividir a frase em palavras e imprima o resultado como uma lista.\n",
        "frase.split()"
      ]
    },
    {
      "cell_type": "markdown",
      "metadata": {
        "id": "O_Uln3IHqnh-"
      },
      "source": [
        "**Exercício 3**"
      ]
    },
    {
      "cell_type": "code",
      "execution_count": 6,
      "metadata": {
        "colab": {
          "base_uri": "https://localhost:8080/"
        },
        "id": "lEqT-Nssqm3S",
        "outputId": "a26d7f4f-b51e-4a01-a805-042404bda29c"
      },
      "outputs": [
        {
          "output_type": "stream",
          "name": "stdout",
          "text": [
            "['maçã', 'banana', 'laranja', 'uva', 'abacaxi']\n"
          ]
        }
      ],
      "source": [
        "# Crie uma lista chamada frutas contendo os seguintes itens: \"maçã\", \"banana\", \"laranja\", \"uva\", \"abacaxi\".\n",
        "frutas = [\"maçã\",\"banana\",\"laranja\",\"uva\",\"abacaxi\"]\n",
        "# Imprima a lista frutas.\n",
        "print(frutas)"
      ]
    },
    {
      "cell_type": "code",
      "execution_count": 7,
      "metadata": {
        "colab": {
          "base_uri": "https://localhost:8080/"
        },
        "id": "UXUYEdFkrBAR",
        "outputId": "6eddf35d-1cbe-4c0d-a1e4-ba869e9b6542"
      },
      "outputs": [
        {
          "output_type": "stream",
          "name": "stdout",
          "text": [
            "['maçã', 'banana', 'laranja', 'uva', 'abacaxi', 'manga']\n"
          ]
        }
      ],
      "source": [
        "# Adicione o item \"manga\" à lista frutas utilizando o método .append() e imprima a lista novamente.\n",
        "frutas.append(\"manga\")\n",
        "print(frutas)"
      ]
    },
    {
      "cell_type": "code",
      "execution_count": 8,
      "metadata": {
        "colab": {
          "base_uri": "https://localhost:8080/"
        },
        "id": "67JghuAarSId",
        "outputId": "85766fb1-fa73-42a5-e93b-1f7900f1b8d8"
      },
      "outputs": [
        {
          "output_type": "stream",
          "name": "stdout",
          "text": [
            "['maçã', 'banana', 'uva', 'abacaxi', 'manga']\n"
          ]
        }
      ],
      "source": [
        "# Remova o item \"laranja\" da lista frutas utilizando o método .remove() e imprima a lista.\n",
        "frutas.remove(\"laranja\")\n",
        "print(frutas)"
      ]
    },
    {
      "cell_type": "code",
      "execution_count": 9,
      "metadata": {
        "colab": {
          "base_uri": "https://localhost:8080/",
          "height": 36
        },
        "id": "yXHlWuiBrmek",
        "outputId": "26b95bca-5c2b-4bef-b9c4-db94e8b83fa1"
      },
      "outputs": [
        {
          "output_type": "execute_result",
          "data": {
            "text/plain": [
              "'uva'"
            ],
            "application/vnd.google.colaboratory.intrinsic+json": {
              "type": "string"
            }
          },
          "metadata": {},
          "execution_count": 9
        }
      ],
      "source": [
        "# Acesse o terceiro item da lista frutas (lembrando que as listas começam em 0) e imprima-o.\n",
        "frutas[2]"
      ]
    },
    {
      "cell_type": "code",
      "execution_count": 10,
      "metadata": {
        "colab": {
          "base_uri": "https://localhost:8080/"
        },
        "id": "ZW-GBpbyr7UR",
        "outputId": "74ec98ec-2011-4f8f-8286-87223d289b52"
      },
      "outputs": [
        {
          "output_type": "stream",
          "name": "stdout",
          "text": [
            "['abacaxi', 'banana', 'manga', 'maçã', 'uva']\n"
          ]
        }
      ],
      "source": [
        "# Ordene a lista frutas em ordem alfabética utilizando o método .sort() e imprima a lista.\n",
        "frutas.sort()\n",
        "print(frutas)"
      ]
    },
    {
      "cell_type": "code",
      "execution_count": 11,
      "metadata": {
        "colab": {
          "base_uri": "https://localhost:8080/"
        },
        "id": "9muHqXVVsWDD",
        "outputId": "7e038f3a-f841-4da8-ba93-47ef68613083"
      },
      "outputs": [
        {
          "output_type": "execute_result",
          "data": {
            "text/plain": [
              "32"
            ]
          },
          "metadata": {},
          "execution_count": 11
        }
      ],
      "source": [
        "# Crie uma lista chamada numeros com os valores [10, 5, 8, 3, 6]. Utilize a função sum() para calcular a soma de todos os elementos dessa lista e imprima o resultado.\n",
        "numeros = [10,5,8,3,6]\n",
        "sum(numeros)"
      ]
    },
    {
      "cell_type": "markdown",
      "metadata": {
        "tags": [],
        "id": "eh18xhCdoFfc"
      },
      "source": [
        "**Exercício 4**"
      ]
    },
    {
      "cell_type": "code",
      "execution_count": 12,
      "metadata": {
        "tags": [],
        "colab": {
          "base_uri": "https://localhost:8080/"
        },
        "id": "O3Rx_48foFfc",
        "outputId": "438ac7ae-c2a6-4106-8f44-6bc5de866eb0"
      },
      "outputs": [
        {
          "output_type": "execute_result",
          "data": {
            "text/plain": [
              "{'nome': 'Carlos', 'idade': 30, 'cidade': ' São Paulo'}"
            ]
          },
          "metadata": {},
          "execution_count": 12
        }
      ],
      "source": [
        "#Crie um dicionário chamado pessoa com as seguintes chaves e valores: \"nome\": \"Carlos\" \"idade\": 30 \"cidade\": \"São Paulo\"\n",
        "pessoa = {\"nome\" : \"Carlos\", \"idade\":30, \"cidade\":\" São Paulo\"}\n",
        "# Imprima o dicionário pessoa.\n",
        "pessoa"
      ]
    },
    {
      "cell_type": "code",
      "execution_count": 13,
      "metadata": {
        "tags": [],
        "colab": {
          "base_uri": "https://localhost:8080/",
          "height": 36
        },
        "id": "haQKLELCoFfc",
        "outputId": "6df20cb9-a340-4c2b-ed37-793911e2b5ae"
      },
      "outputs": [
        {
          "output_type": "execute_result",
          "data": {
            "text/plain": [
              "'Carlos'"
            ],
            "application/vnd.google.colaboratory.intrinsic+json": {
              "type": "string"
            }
          },
          "metadata": {},
          "execution_count": 13
        }
      ],
      "source": [
        "# Acesse e imprima o valor associado à chave \"nome\".\n",
        "pessoa[\"nome\"]"
      ]
    },
    {
      "cell_type": "code",
      "execution_count": 14,
      "metadata": {
        "tags": [],
        "colab": {
          "base_uri": "https://localhost:8080/"
        },
        "id": "RRGpMxSpoFfc",
        "outputId": "9b2b4c5c-b8b8-4189-d34c-a39a22b3ff27"
      },
      "outputs": [
        {
          "output_type": "execute_result",
          "data": {
            "text/plain": [
              "{'nome': 'Carlos', 'idade': 31, 'cidade': ' São Paulo'}"
            ]
          },
          "metadata": {},
          "execution_count": 14
        }
      ],
      "source": [
        "#Altere a idade de \"Carlos\" para 31 e imprima o dicionário novamente.\n",
        "pessoa[\"idade\"] = 31\n",
        "pessoa"
      ]
    },
    {
      "cell_type": "code",
      "execution_count": 15,
      "metadata": {
        "tags": [],
        "colab": {
          "base_uri": "https://localhost:8080/"
        },
        "id": "g8X9j40foFfc",
        "outputId": "d4209952-398e-425c-c58f-d4d9151274e7"
      },
      "outputs": [
        {
          "output_type": "execute_result",
          "data": {
            "text/plain": [
              "{'nome': 'Carlos',\n",
              " 'idade': 31,\n",
              " 'cidade': ' São Paulo',\n",
              " 'profissão': 'Engenheiro'}"
            ]
          },
          "metadata": {},
          "execution_count": 15
        }
      ],
      "source": [
        "# Adicione uma nova chave \"profissão\" ao dicionário com o valor \"engenheiro\". Imprima o dicionário atualizado.\n",
        "pessoa[\"profissão\"] = \"Engenheiro\"\n",
        "pessoa"
      ]
    },
    {
      "cell_type": "code",
      "execution_count": 16,
      "metadata": {
        "tags": [],
        "colab": {
          "base_uri": "https://localhost:8080/"
        },
        "id": "2xGiOqTBoFfc",
        "outputId": "49a97137-132c-4dd3-e005-05a96263cfa5"
      },
      "outputs": [
        {
          "output_type": "execute_result",
          "data": {
            "text/plain": [
              "{'nome': 'Carlos', 'idade': 31, 'profissão': 'Engenheiro'}"
            ]
          },
          "metadata": {},
          "execution_count": 16
        }
      ],
      "source": [
        "# Remova a chave \"cidade\" do dicionário e imprima o dicionário após a remoção.\n",
        "pessoa.pop(\"cidade\")\n",
        "pessoa"
      ]
    },
    {
      "cell_type": "code",
      "execution_count": 17,
      "metadata": {
        "tags": [],
        "colab": {
          "base_uri": "https://localhost:8080/"
        },
        "id": "171ftCKjoFfc",
        "outputId": "c03bf45b-7c27-4cf0-bc0f-b18f99feb4b3"
      },
      "outputs": [
        {
          "output_type": "execute_result",
          "data": {
            "text/plain": [
              "dict_keys(['nome', 'idade', 'profissão'])"
            ]
          },
          "metadata": {},
          "execution_count": 17
        }
      ],
      "source": [
        "# Utilize o método .keys() para imprimir todas as chaves do dicionário.\n",
        "pessoa.keys()"
      ]
    },
    {
      "cell_type": "code",
      "execution_count": 18,
      "metadata": {
        "tags": [],
        "colab": {
          "base_uri": "https://localhost:8080/"
        },
        "id": "J8JZzvCPoFfc",
        "outputId": "ac10e88f-417a-4ff5-f2c5-250a63d5c69c"
      },
      "outputs": [
        {
          "output_type": "execute_result",
          "data": {
            "text/plain": [
              "dict_values(['Carlos', 31, 'Engenheiro'])"
            ]
          },
          "metadata": {},
          "execution_count": 18
        }
      ],
      "source": [
        "# Utilize o método .values() para imprimir todos os valores do dicionário.\n",
        "pessoa.values()"
      ]
    },
    {
      "cell_type": "markdown",
      "metadata": {
        "id": "QnK0NrPmoFfc"
      },
      "source": [
        "**Exercício 5**"
      ]
    },
    {
      "cell_type": "code",
      "execution_count": 19,
      "metadata": {
        "tags": [],
        "colab": {
          "base_uri": "https://localhost:8080/"
        },
        "id": "tPfK5zR0oFfc",
        "outputId": "2c2b0faf-f662-41e8-9e44-3b107a8b1830"
      },
      "outputs": [
        {
          "output_type": "execute_result",
          "data": {
            "text/plain": [
              "['vermelho', 'azul', 'verde', 'amarelo', 'roxo']"
            ]
          },
          "metadata": {},
          "execution_count": 19
        }
      ],
      "source": [
        "# Crie uma tupla chamada cores contendo as seguintes cores: \"vermelho\", \"azul\", \"verde\", \"amarelo\", \"roxo\".\n",
        "cores = [\"vermelho\", \"azul\", \"verde\", \"amarelo\", \"roxo\"]\n",
        "# Imprima a tupla cores.\n",
        "cores"
      ]
    },
    {
      "cell_type": "code",
      "execution_count": 20,
      "metadata": {
        "tags": [],
        "colab": {
          "base_uri": "https://localhost:8080/",
          "height": 36
        },
        "id": "Qfcpj9hXoFfc",
        "outputId": "d7552907-87f3-40ca-905e-ab2b0409db65"
      },
      "outputs": [
        {
          "output_type": "execute_result",
          "data": {
            "text/plain": [
              "'verde'"
            ],
            "application/vnd.google.colaboratory.intrinsic+json": {
              "type": "string"
            }
          },
          "metadata": {},
          "execution_count": 20
        }
      ],
      "source": [
        "# Acesse e imprima o segundo item da tupla cores.\n",
        "cores[2]"
      ]
    },
    {
      "cell_type": "code",
      "execution_count": 21,
      "metadata": {
        "tags": [],
        "colab": {
          "base_uri": "https://localhost:8080/"
        },
        "id": "wdXpfgAdoFfc",
        "outputId": "ad61be86-ad4d-4150-f8b8-af6015b4928e"
      },
      "outputs": [
        {
          "output_type": "execute_result",
          "data": {
            "text/plain": [
              "True"
            ]
          },
          "metadata": {},
          "execution_count": 21
        }
      ],
      "source": [
        "# Verifique se a cor \"azul\" está presente na tupla cores e imprima True ou False dependendo da resposta.\n",
        "\"azul\" in cores"
      ]
    },
    {
      "cell_type": "code",
      "execution_count": 22,
      "metadata": {
        "tags": [],
        "colab": {
          "base_uri": "https://localhost:8080/"
        },
        "id": "nK0iuW1PoFfd",
        "outputId": "3deed299-42a0-4e07-afe0-f7b530f6f1cd"
      },
      "outputs": [
        {
          "output_type": "execute_result",
          "data": {
            "text/plain": [
              "(1, 2, 3, 4, 5)"
            ]
          },
          "metadata": {},
          "execution_count": 22
        }
      ],
      "source": [
        "# Crie uma tupla chamada numeros contendo os números (1, 2, 3, 4, 5).\n",
        "numeros = (1,2,3,4,5)\n",
        "numeros"
      ]
    },
    {
      "cell_type": "code",
      "execution_count": 23,
      "metadata": {
        "tags": [],
        "colab": {
          "base_uri": "https://localhost:8080/"
        },
        "id": "KkRQ85CkoFfd",
        "outputId": "24aa0217-6c8d-4dad-c069-cd9269b90c9a"
      },
      "outputs": [
        {
          "output_type": "execute_result",
          "data": {
            "text/plain": [
              "15"
            ]
          },
          "metadata": {},
          "execution_count": 23
        }
      ],
      "source": [
        "# Some todos os elementos da tupla numeros e imprima o resultado.\n",
        "sum(numeros)"
      ]
    },
    {
      "cell_type": "code",
      "execution_count": 24,
      "metadata": {
        "tags": [],
        "colab": {
          "base_uri": "https://localhost:8080/"
        },
        "id": "fZiLVZ_WoFfd",
        "outputId": "6b6c0580-d3f3-47bb-b533-3d4a15905591"
      },
      "outputs": [
        {
          "output_type": "execute_result",
          "data": {
            "text/plain": [
              "['vermelho', 'azul', 'verde', 'Laranja', 'roxo']"
            ]
          },
          "metadata": {},
          "execution_count": 24
        }
      ],
      "source": [
        "# Tente alterar o valor do terceiro item da tupla cores para \"laranja\". O que acontece? Explique por que não é possível alterar um valor em uma tupla.\n",
        "cores[3] = \"Laranja\"\n",
        "cores"
      ]
    },
    {
      "cell_type": "code",
      "execution_count": 25,
      "metadata": {
        "id": "MgzusvIYoFfd"
      },
      "outputs": [],
      "source": [
        "# Crie uma nova tupla chamada nova_cores que seja a concatenação da tupla cores com uma nova tupla (\"preto\", \"branco\") e imprima o resultado.\n"
      ]
    },
    {
      "cell_type": "markdown",
      "metadata": {
        "id": "VdP5wvc8sq1T"
      },
      "source": [
        "**Exercício 6**"
      ]
    },
    {
      "cell_type": "code",
      "execution_count": 27,
      "metadata": {
        "colab": {
          "base_uri": "https://localhost:8080/"
        },
        "id": "qNZozn_bsu2X",
        "outputId": "74a3d950-f720-4e23-d16a-76a6dcf55223"
      },
      "outputs": [
        {
          "output_type": "stream",
          "name": "stdout",
          "text": [
            "Digite sua altura (em m):\n",
            "1.60\n",
            "Digite seu peso (em kg):\n",
            "50\n",
            "O seu IMC é: 19.53\n"
          ]
        }
      ],
      "source": [
        "# Crie um programa que receba a altura e o peso de uma pessoa e imprima seu IMC.\n",
        "print(\"Digite sua altura (em m):\")\n",
        "altura = input()\n",
        "print(\"Digite seu peso (em kg):\")\n",
        "peso = input()\n",
        "IMC = float(peso)/(float(altura) ** 2)\n",
        "print(\"O seu IMC é:\",round(IMC,2))"
      ]
    },
    {
      "cell_type": "markdown",
      "metadata": {
        "id": "OS31X5A_y6dm"
      },
      "source": [
        "**Exercício 7**"
      ]
    },
    {
      "cell_type": "code",
      "execution_count": 28,
      "metadata": {
        "colab": {
          "base_uri": "https://localhost:8080/"
        },
        "id": "geVVJsc7y5zy",
        "outputId": "9b8e2a35-3def-42c7-da79-0fbaacc5ce03"
      },
      "outputs": [
        {
          "output_type": "stream",
          "name": "stdout",
          "text": [
            "Digite o seu nome completo:\n",
            "Pamella dos Santos Cora\n",
            "Olá, Pamella\n"
          ]
        }
      ],
      "source": [
        "#Escreva um programa que pergunte o nome completo do usuário e o cumprimente pelo primeiro nome.\n",
        "print(\"Digite o seu nome completo:\")\n",
        "nome = input()\n",
        "lista = nome.split()\n",
        "print(\"Olá,\", lista[0])"
      ]
    },
    {
      "cell_type": "markdown",
      "metadata": {
        "id": "sQMmR-HvzL0v"
      },
      "source": [
        "**Exercício 8**"
      ]
    },
    {
      "cell_type": "code",
      "execution_count": 29,
      "metadata": {
        "colab": {
          "base_uri": "https://localhost:8080/"
        },
        "id": "cjULJIZSzObq",
        "outputId": "1df58a5a-8a13-4c3d-88c9-ed4be20a70bb"
      },
      "outputs": [
        {
          "output_type": "stream",
          "name": "stdout",
          "text": [
            "Digite o seu e-mail:\n",
            "pamellacora09@gmail.com\n",
            "O domínio do seu e-mail é: gmail.com\n"
          ]
        }
      ],
      "source": [
        "#Escreva um código que extraia o domínio de um e-mail informado.\n",
        "print(\"Digite o seu e-mail:\")\n",
        "email = input()\n",
        "email_separado = email.split(\"@\")\n",
        "print(\"O domínio do seu e-mail é:\",email_separado[1])"
      ]
    },
    {
      "cell_type": "markdown",
      "metadata": {
        "id": "k0G9brq3oFfd"
      },
      "source": [
        "**Exercício 9**"
      ]
    },
    {
      "cell_type": "code",
      "execution_count": 31,
      "metadata": {
        "tags": [],
        "colab": {
          "base_uri": "https://localhost:8080/"
        },
        "id": "KL_gI0d8oFfd",
        "outputId": "1d094e12-cc92-4efe-fee0-c58e52043b31"
      },
      "outputs": [
        {
          "name": "stdout",
          "output_type": "stream",
          "text": [
            "Quanto você ganha por hora? (em R$)\n",
            "12.50\n",
            "Quantas horas você trabalha no mês?\n",
            "120\n"
          ]
        }
      ],
      "source": [
        "# Faça um programa que pergunte quanto você ganha por hora e o número de horas trabalhadas no mês.\n",
        "print(\"Quanto você ganha por hora? (em R$)\")\n",
        "ganhos = float(input())\n",
        "print(\"Quantas horas você trabalha no mês?\")\n",
        "horas = float(input())"
      ]
    },
    {
      "cell_type": "code",
      "execution_count": 32,
      "metadata": {
        "tags": [],
        "colab": {
          "base_uri": "https://localhost:8080/"
        },
        "id": "GdXPmujboFfe",
        "outputId": "64fff545-afc9-446d-ae56-e24ca059b542"
      },
      "outputs": [
        {
          "output_type": "stream",
          "name": "stdout",
          "text": [
            "Salário bruto: R$1500.00\n",
            "Valor pago ao INSS: R$120.00\n",
            "Valor pago ao Sindicato: R$75.00\n",
            "Salário líquido: R$1140.00\n"
          ]
        }
      ],
      "source": [
        "# Calcule e mostre o total do seu salário no referido mês, sabendo-se que são descontados 11% para o imposto de renda, 8% para o INSS e 5% para o sindicato.\n",
        "# O programa deve mostrar: salário bruto, quanto pagou ao INSS, quanto pagou ao sindicato, salário líquido.\n",
        "salario_bruto = ganhos*horas\n",
        "Imp_renda = 0.11*salario_bruto\n",
        "INSS = 0.08*salario_bruto\n",
        "Sind = 0.05*salario_bruto\n",
        "salario_liquid = salario_bruto - Imp_renda - INSS - Sind\n",
        "\n",
        "print(\"Salário bruto: R${:.2f}\".format(salario_bruto))\n",
        "print(\"Valor pago ao INSS: R${:.2f}\".format(INSS))\n",
        "print(\"Valor pago ao Sindicato: R${:.2f}\".format(Sind))\n",
        "print(\"Salário líquido: R${:.2f}\".format(salario_liquid))"
      ]
    }
  ],
  "metadata": {
    "colab": {
      "provenance": []
    },
    "kernelspec": {
      "display_name": "Python 3 (ipykernel)",
      "language": "python",
      "name": "python3"
    },
    "language_info": {
      "codemirror_mode": {
        "name": "ipython",
        "version": 3
      },
      "file_extension": ".py",
      "mimetype": "text/x-python",
      "name": "python",
      "nbconvert_exporter": "python",
      "pygments_lexer": "ipython3",
      "version": "3.11.5"
    }
  },
  "nbformat": 4,
  "nbformat_minor": 0
}