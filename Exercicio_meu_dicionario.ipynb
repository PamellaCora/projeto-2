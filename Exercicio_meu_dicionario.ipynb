{
 "cells": [
  {
   "cell_type": "code",
   "execution_count": 1,
   "id": "0f060206-ca7d-44fb-b6af-9f93e65c9483",
   "metadata": {},
   "outputs": [],
   "source": [
    "meu_dicionario = {\"nome\" : \"Paulo\" , \"idade\": 30, \"filhos\" : ['João', 'Maria']}"
   ]
  },
  {
   "cell_type": "code",
   "execution_count": 2,
   "id": "71179d03-81d8-4e67-ade6-2cc5ec56fcea",
   "metadata": {
    "tags": []
   },
   "outputs": [
    {
     "data": {
      "text/plain": [
       "{'nome': 'Paulo', 'idade': 30, 'filhos': ['João', 'Maria']}"
      ]
     },
     "execution_count": 2,
     "metadata": {},
     "output_type": "execute_result"
    }
   ],
   "source": [
    "meu_dicionario"
   ]
  },
  {
   "cell_type": "code",
   "execution_count": 3,
   "id": "e2147c3a-ddc8-4161-be4e-d66e22102042",
   "metadata": {
    "tags": []
   },
   "outputs": [
    {
     "data": {
      "text/plain": [
       "30"
      ]
     },
     "execution_count": 3,
     "metadata": {},
     "output_type": "execute_result"
    }
   ],
   "source": [
    "meu_dicionario['idade']"
   ]
  },
  {
   "cell_type": "code",
   "execution_count": 5,
   "id": "23b40f47-adf0-4b23-809b-d69947fbfa27",
   "metadata": {
    "tags": []
   },
   "outputs": [],
   "source": [
    "meu_dicionario['cidade']= \"Cariacica\""
   ]
  },
  {
   "cell_type": "code",
   "execution_count": 6,
   "id": "0fcd6b6b-a3b3-47a6-a955-aa18391b117e",
   "metadata": {
    "tags": []
   },
   "outputs": [
    {
     "data": {
      "text/plain": [
       "{'nome': 'Paulo',\n",
       " 'idade': 30,\n",
       " 'filhos': ['João', 'Maria'],\n",
       " 'cidade': 'Cariacica'}"
      ]
     },
     "execution_count": 6,
     "metadata": {},
     "output_type": "execute_result"
    }
   ],
   "source": [
    "meu_dicionario"
   ]
  },
  {
   "cell_type": "code",
   "execution_count": 7,
   "id": "6a7eb165-985e-434e-90da-3a609b280dc2",
   "metadata": {
    "tags": []
   },
   "outputs": [
    {
     "data": {
      "text/plain": [
       "dict_keys(['nome', 'idade', 'filhos', 'cidade'])"
      ]
     },
     "execution_count": 7,
     "metadata": {},
     "output_type": "execute_result"
    }
   ],
   "source": [
    "#Acesso as chaves do dicionario\n",
    "meu_dicionario.keys()"
   ]
  },
  {
   "cell_type": "code",
   "execution_count": 12,
   "id": "ee8ecfac-965c-4142-9110-b886342a7de7",
   "metadata": {
    "tags": []
   },
   "outputs": [
    {
     "data": {
      "text/plain": [
       "dict_items([('nome', 'Paulo'), ('idade', 30), ('filhos', ['João', 'Maria']), ('cidade', 'Cariacica')])"
      ]
     },
     "execution_count": 12,
     "metadata": {},
     "output_type": "execute_result"
    }
   ],
   "source": [
    "#Acesso as itens do dicionario\n",
    "meu_dicionario.items()"
   ]
  },
  {
   "cell_type": "code",
   "execution_count": 13,
   "id": "0d6c7668-cb9b-45e5-a585-71621bd62d42",
   "metadata": {
    "tags": []
   },
   "outputs": [
    {
     "data": {
      "text/plain": [
       "dict_values(['Paulo', 30, ['João', 'Maria'], 'Cariacica'])"
      ]
     },
     "execution_count": 13,
     "metadata": {},
     "output_type": "execute_result"
    }
   ],
   "source": [
    "#Acesso aos valores do dicionario\n",
    "meu_dicionario.values()"
   ]
  },
  {
   "cell_type": "code",
   "execution_count": 15,
   "id": "0caa58a3-b2b6-4eaa-b5c4-0c43520057d8",
   "metadata": {
    "tags": []
   },
   "outputs": [
    {
     "name": "stdout",
     "output_type": "stream",
     "text": [
      "O nome do professor é Paulo\n"
     ]
    }
   ],
   "source": [
    "print(\"O nome do professor é\", meu_dicionario['nome'])"
   ]
  },
  {
   "cell_type": "code",
   "execution_count": 16,
   "id": "48e3ddff-ed01-41c1-924b-a2d4e12d5266",
   "metadata": {
    "tags": []
   },
   "outputs": [
    {
     "name": "stdout",
     "output_type": "stream",
     "text": [
      "Digite seu nome\n"
     ]
    },
    {
     "name": "stdin",
     "output_type": "stream",
     "text": [
      " Pamella\n"
     ]
    },
    {
     "name": "stdout",
     "output_type": "stream",
     "text": [
      "Digite a sua idade\n"
     ]
    },
    {
     "name": "stdin",
     "output_type": "stream",
     "text": [
      " 21\n"
     ]
    }
   ],
   "source": [
    "meu_dicionario2 = {}\n",
    "print(\"Digite seu nome\")\n",
    "meu_dicionario2['nome'] = input()\n",
    "print(\"Digite a sua idade\")\n",
    "meu_dicionario2['idade'] = float(input())"
   ]
  },
  {
   "cell_type": "code",
   "execution_count": 18,
   "id": "de8cbb15-d586-4786-9cd5-1f6cd7088d6b",
   "metadata": {
    "tags": []
   },
   "outputs": [
    {
     "data": {
      "text/plain": [
       "'Pamella'"
      ]
     },
     "execution_count": 18,
     "metadata": {},
     "output_type": "execute_result"
    }
   ],
   "source": [
    "meu_dicionario2['nome']"
   ]
  },
  {
   "cell_type": "code",
   "execution_count": 19,
   "id": "0b1f2cdf-9ee5-417f-adf1-8a7ba2c1384b",
   "metadata": {
    "tags": []
   },
   "outputs": [
    {
     "data": {
      "text/plain": [
       "21.0"
      ]
     },
     "execution_count": 19,
     "metadata": {},
     "output_type": "execute_result"
    }
   ],
   "source": [
    "meu_dicionario2['idade']"
   ]
  },
  {
   "cell_type": "code",
   "execution_count": 20,
   "id": "940df8f7-78b7-453f-97f6-c85c684c3bc8",
   "metadata": {
    "tags": []
   },
   "outputs": [],
   "source": [
    "## TUPLAS"
   ]
  },
  {
   "cell_type": "code",
   "execution_count": 21,
   "id": "3e68f23e-dc38-4764-800c-f82c39bc0cfd",
   "metadata": {
    "tags": []
   },
   "outputs": [],
   "source": [
    "t = (1,2,3)"
   ]
  },
  {
   "cell_type": "code",
   "execution_count": 22,
   "id": "541c8d09-3b10-4e8c-9509-e8f544568517",
   "metadata": {
    "tags": []
   },
   "outputs": [
    {
     "data": {
      "text/plain": [
       "2"
      ]
     },
     "execution_count": 22,
     "metadata": {},
     "output_type": "execute_result"
    }
   ],
   "source": [
    "t[1]"
   ]
  },
  {
   "cell_type": "code",
   "execution_count": 23,
   "id": "6ac4ef4d-4e85-4c01-95f6-c7da1421f673",
   "metadata": {
    "tags": []
   },
   "outputs": [],
   "source": [
    "a, b = (1, 2)"
   ]
  },
  {
   "cell_type": "code",
   "execution_count": 24,
   "id": "e61354d1-8315-4368-82e0-9040a9edc4c1",
   "metadata": {
    "tags": []
   },
   "outputs": [
    {
     "data": {
      "text/plain": [
       "1"
      ]
     },
     "execution_count": 24,
     "metadata": {},
     "output_type": "execute_result"
    }
   ],
   "source": [
    "a"
   ]
  },
  {
   "cell_type": "code",
   "execution_count": 25,
   "id": "16de8e1c-01d3-4f6d-a358-8e7190865c63",
   "metadata": {
    "tags": []
   },
   "outputs": [
    {
     "data": {
      "text/plain": [
       "2"
      ]
     },
     "execution_count": 25,
     "metadata": {},
     "output_type": "execute_result"
    }
   ],
   "source": [
    "b"
   ]
  },
  {
   "cell_type": "code",
   "execution_count": 26,
   "id": "a1cc05ae-fd98-46a7-89f9-eca769a88744",
   "metadata": {
    "tags": []
   },
   "outputs": [
    {
     "data": {
      "text/plain": [
       "{'nome': 'Paulo',\n",
       " 'idade': 30,\n",
       " 'filhos': ['João', 'Maria'],\n",
       " 'cidade': 'Cariacica'}"
      ]
     },
     "execution_count": 26,
     "metadata": {},
     "output_type": "execute_result"
    }
   ],
   "source": [
    "meu_dicionario"
   ]
  },
  {
   "cell_type": "code",
   "execution_count": 27,
   "id": "42093683-d05c-40b2-aed6-1fda9cd54ed6",
   "metadata": {
    "tags": []
   },
   "outputs": [
    {
     "data": {
      "text/plain": [
       "'Paulo'"
      ]
     },
     "execution_count": 27,
     "metadata": {},
     "output_type": "execute_result"
    }
   ],
   "source": [
    "meu_dicionario.pop('nome')"
   ]
  },
  {
   "cell_type": "code",
   "execution_count": 28,
   "id": "1685dd1f-c98d-4c6f-9b46-667ed94dfeb7",
   "metadata": {
    "tags": []
   },
   "outputs": [
    {
     "data": {
      "text/plain": [
       "{'idade': 30, 'filhos': ['João', 'Maria'], 'cidade': 'Cariacica'}"
      ]
     },
     "execution_count": 28,
     "metadata": {},
     "output_type": "execute_result"
    }
   ],
   "source": [
    "meu_dicionario"
   ]
  }
 ],
 "metadata": {
  "kernelspec": {
   "display_name": "Python 3 (ipykernel)",
   "language": "python",
   "name": "python3"
  },
  "language_info": {
   "codemirror_mode": {
    "name": "ipython",
    "version": 3
   },
   "file_extension": ".py",
   "mimetype": "text/x-python",
   "name": "python",
   "nbconvert_exporter": "python",
   "pygments_lexer": "ipython3",
   "version": "3.11.5"
  }
 },
 "nbformat": 4,
 "nbformat_minor": 5
}
