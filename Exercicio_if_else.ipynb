{
 "cells": [
  {
   "cell_type": "markdown",
   "id": "d53704de-6069-42ef-93bf-192527a76d22",
   "metadata": {
    "tags": []
   },
   "source": [
    "# ifes, elif, els"
   ]
  },
  {
   "cell_type": "code",
   "execution_count": 5,
   "id": "b7a34014-4214-479f-ba98-a7a7ad336dff",
   "metadata": {
    "tags": []
   },
   "outputs": [
    {
     "name": "stdout",
     "output_type": "stream",
     "text": [
      "Qual a temperatura hoje?\n"
     ]
    },
    {
     "name": "stdin",
     "output_type": "stream",
     "text": [
      " 18\n"
     ]
    }
   ],
   "source": [
    "print(\"Qual a temperatura hoje?\")\n",
    "temp = float(input())\n",
    "\n",
    "if temp > 30:\n",
    "print(\"está quente.\")"
   ]
  },
  {
   "cell_type": "code",
   "execution_count": 6,
   "id": "4b2e1cdc-162a-4c7b-9727-06ec44481bb0",
   "metadata": {
    "tags": []
   },
   "outputs": [
    {
     "name": "stdout",
     "output_type": "stream",
     "text": [
      "Qual a temperatura hoje?\n"
     ]
    },
    {
     "name": "stdin",
     "output_type": "stream",
     "text": [
      " 20\n"
     ]
    },
    {
     "name": "stdout",
     "output_type": "stream",
     "text": [
      "está uma temperatura ok.\n"
     ]
    }
   ],
   "source": [
    "print(\"Qual a temperatura hoje?\")\n",
    "temp = float(input())\n",
    "\n",
    "if temp > 30:\n",
    "    print(\"está quente.\")\n",
    "    \n",
    "elif temp <0:\n",
    "    print(\"esta muito frio\")\n",
    "    \n",
    "else:\n",
    "    print(\"está uma temperatura ok.\")"
   ]
  },
  {
   "cell_type": "markdown",
   "id": "7017c9e1-fc0f-4536-ab8f-23fa7beba3c6",
   "metadata": {
    "tags": []
   },
   "source": [
    "# Range\n"
   ]
  },
  {
   "cell_type": "code",
   "execution_count": 8,
   "id": "5792200e-d967-43c8-8595-cecad3a49c65",
   "metadata": {
    "tags": []
   },
   "outputs": [
    {
     "data": {
      "text/plain": [
       "range(0, 10)"
      ]
     },
     "execution_count": 8,
     "metadata": {},
     "output_type": "execute_result"
    }
   ],
   "source": [
    "range(10)"
   ]
  },
  {
   "cell_type": "code",
   "execution_count": 9,
   "id": "b2b8371d-1178-4990-8cb7-7057054591a6",
   "metadata": {
    "tags": []
   },
   "outputs": [
    {
     "data": {
      "text/plain": [
       "[0, 1, 2, 3, 4, 5, 6, 7, 8, 9]"
      ]
     },
     "execution_count": 9,
     "metadata": {},
     "output_type": "execute_result"
    }
   ],
   "source": [
    "list(range(10))"
   ]
  },
  {
   "cell_type": "markdown",
   "id": "d5ca414c-33bb-41a5-869c-5b54adddb105",
   "metadata": {},
   "source": [
    "# For"
   ]
  },
  {
   "cell_type": "code",
   "execution_count": 10,
   "id": "282317cb-cf7d-4412-ab6b-820540fdeff9",
   "metadata": {
    "tags": []
   },
   "outputs": [
    {
     "name": "stdout",
     "output_type": "stream",
     "text": [
      "0\n",
      "1\n",
      "2\n",
      "3\n",
      "4\n",
      "5\n",
      "6\n",
      "7\n",
      "8\n",
      "9\n"
     ]
    }
   ],
   "source": [
    "for i in range(10):\n",
    "    print(i)"
   ]
  },
  {
   "cell_type": "code",
   "execution_count": 13,
   "id": "f8ef231a-c435-4197-a6d0-664cbefae461",
   "metadata": {
    "tags": []
   },
   "outputs": [
    {
     "name": "stdout",
     "output_type": "stream",
     "text": [
      "Numero 0 é par\n",
      "Numero 2 é par\n",
      "Numero 4 é par\n",
      "Numero 6 é par\n",
      "Numero 8 é par\n",
      "Numero 10 é par\n",
      "Numero 12 é par\n",
      "Numero 14 é par\n",
      "Numero 16 é par\n",
      "Numero 18 é par\n",
      "Numero 20 é par\n",
      "Numero 22 é par\n",
      "Numero 24 é par\n",
      "Numero 26 é par\n",
      "Numero 28 é par\n",
      "Numero 30 é par\n",
      "Numero 32 é par\n",
      "Numero 34 é par\n",
      "Numero 36 é par\n",
      "Numero 38 é par\n",
      "Numero 40 é par\n",
      "Numero 42 é par\n",
      "Numero 44 é par\n",
      "Numero 46 é par\n",
      "Numero 48 é par\n",
      "Numero 50 é par\n",
      "Numero 52 é par\n",
      "Numero 54 é par\n",
      "Numero 56 é par\n",
      "Numero 58 é par\n",
      "Numero 60 é par\n",
      "Numero 62 é par\n",
      "Numero 64 é par\n",
      "Numero 66 é par\n",
      "Numero 68 é par\n",
      "Numero 70 é par\n",
      "Numero 72 é par\n",
      "Numero 74 é par\n",
      "Numero 76 é par\n",
      "Numero 78 é par\n",
      "Numero 80 é par\n",
      "Numero 82 é par\n",
      "Numero 84 é par\n",
      "Numero 86 é par\n",
      "Numero 88 é par\n",
      "Numero 90 é par\n",
      "Numero 92 é par\n",
      "Numero 94 é par\n",
      "Numero 96 é par\n",
      "Numero 98 é par\n"
     ]
    }
   ],
   "source": [
    "# verificador de numeros pares: \n",
    "for i in range(100):\n",
    "    if i % 2 ==0:\n",
    "        print(\"Numero {} é par\". format(i))"
   ]
  },
  {
   "cell_type": "markdown",
   "id": "75084aeb-9c95-49e6-a43e-582044f1ac2d",
   "metadata": {
    "tags": []
   },
   "source": [
    "# While"
   ]
  },
  {
   "cell_type": "code",
   "execution_count": 14,
   "id": "9f792fc0-f21c-4510-a712-4365e79c615c",
   "metadata": {
    "tags": []
   },
   "outputs": [
    {
     "name": "stdout",
     "output_type": "stream",
     "text": [
      "O valor de x é: 0\n",
      "O valor de x é: 1\n",
      "O valor de x é: 2\n",
      "O valor de x é: 3\n",
      "O valor de x é: 4\n",
      "O valor de x é: 5\n",
      "O valor de x é: 6\n",
      "O valor de x é: 7\n",
      "O valor de x é: 8\n",
      "O valor de x é: 9\n"
     ]
    }
   ],
   "source": [
    "x=0 \n",
    "\n",
    "while x < 10:\n",
    "    print(\"O valor de x é: {}\".format(x))\n",
    "    x = x + 1"
   ]
  },
  {
   "cell_type": "markdown",
   "id": "33eee067-f0c4-437c-9537-c51be02c2b67",
   "metadata": {
    "tags": []
   },
   "source": [
    "# Funções"
   ]
  },
  {
   "cell_type": "code",
   "execution_count": 20,
   "id": "b316b8e0-1c70-4db9-970c-13fe909f87dd",
   "metadata": {
    "tags": []
   },
   "outputs": [],
   "source": [
    "def soma_numeros(x,y):\n",
    "    return x + y"
   ]
  },
  {
   "cell_type": "code",
   "execution_count": 22,
   "id": "872a5eee-1824-474a-8ec8-e60242f30aea",
   "metadata": {
    "tags": []
   },
   "outputs": [
    {
     "data": {
      "text/plain": [
       "3"
      ]
     },
     "execution_count": 22,
     "metadata": {},
     "output_type": "execute_result"
    }
   ],
   "source": [
    "soma_numeros(1,2)"
   ]
  },
  {
   "cell_type": "code",
   "execution_count": null,
   "id": "6a828e1b-d810-4b73-9c73-1700eb9e7b50",
   "metadata": {},
   "outputs": [],
   "source": []
  }
 ],
 "metadata": {
  "kernelspec": {
   "display_name": "Python 3 (ipykernel)",
   "language": "python",
   "name": "python3"
  },
  "language_info": {
   "codemirror_mode": {
    "name": "ipython",
    "version": 3
   },
   "file_extension": ".py",
   "mimetype": "text/x-python",
   "name": "python",
   "nbconvert_exporter": "python",
   "pygments_lexer": "ipython3",
   "version": "3.11.5"
  }
 },
 "nbformat": 4,
 "nbformat_minor": 5
}
