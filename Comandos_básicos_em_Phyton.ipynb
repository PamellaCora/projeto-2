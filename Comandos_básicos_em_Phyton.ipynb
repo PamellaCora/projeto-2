{
  "metadata": {
    "kernelspec": {
      "name": "python",
      "display_name": "Python (Pyodide)",
      "language": "python"
    },
    "language_info": {
      "codemirror_mode": {
        "name": "python",
        "version": 3
      },
      "file_extension": ".py",
      "mimetype": "text/x-python",
      "name": "python",
      "nbconvert_exporter": "python",
      "pygments_lexer": "ipython3",
      "version": "3.8"
    },
    "colab": {
      "provenance": []
    }
  },
  "nbformat_minor": 5,
  "nbformat": 4,
  "cells": [
    {
      "id": "22abb7dd-679a-4360-b208-3c90586f5898",
      "cell_type": "code",
      "source": [
        "#Estrutura de dados (formas de guardar dados)\n",
        "#Números e operações básicas\n",
        "\n",
        "#Soma\n",
        "2 + 1"
      ],
      "metadata": {
        "tags": [],
        "trusted": true,
        "colab": {
          "base_uri": "https://localhost:8080/"
        },
        "id": "22abb7dd-679a-4360-b208-3c90586f5898",
        "outputId": "1547c961-cb37-4ead-d6b6-4db3536767a7"
      },
      "outputs": [
        {
          "output_type": "execute_result",
          "data": {
            "text/plain": [
              "3"
            ]
          },
          "metadata": {},
          "execution_count": 1
        }
      ],
      "execution_count": 1
    },
    {
      "id": "529e47d3-1efe-4730-b0a4-feee6416c06b",
      "cell_type": "code",
      "source": [
        "#Subtração\n",
        "2-1"
      ],
      "metadata": {
        "tags": [],
        "trusted": true,
        "colab": {
          "base_uri": "https://localhost:8080/"
        },
        "id": "529e47d3-1efe-4730-b0a4-feee6416c06b",
        "outputId": "56133ec5-56bb-4ee5-8b1d-afb14fdae827"
      },
      "outputs": [
        {
          "output_type": "execute_result",
          "data": {
            "text/plain": [
              "1"
            ]
          },
          "metadata": {},
          "execution_count": 2
        }
      ],
      "execution_count": 2
    },
    {
      "id": "9a5821f6-96c1-415b-bfb4-ce3bb9ece564",
      "cell_type": "code",
      "source": [
        "#Multiplicação\n",
        "2*3"
      ],
      "metadata": {
        "tags": [],
        "trusted": true,
        "colab": {
          "base_uri": "https://localhost:8080/"
        },
        "id": "9a5821f6-96c1-415b-bfb4-ce3bb9ece564",
        "outputId": "cdfdd8bc-4e4a-41e1-979c-25f6b71ea441"
      },
      "outputs": [
        {
          "output_type": "execute_result",
          "data": {
            "text/plain": [
              "6"
            ]
          },
          "metadata": {},
          "execution_count": 3
        }
      ],
      "execution_count": 3
    },
    {
      "id": "b279779f-1855-4088-8694-1920059d4cd6",
      "cell_type": "code",
      "source": [
        "#Divisão\n",
        "4/2"
      ],
      "metadata": {
        "tags": [],
        "trusted": true,
        "colab": {
          "base_uri": "https://localhost:8080/"
        },
        "id": "b279779f-1855-4088-8694-1920059d4cd6",
        "outputId": "4f1222b7-e6f9-4a70-a7e7-dfa3504bd8ee"
      },
      "outputs": [
        {
          "output_type": "execute_result",
          "data": {
            "text/plain": [
              "2.0"
            ]
          },
          "metadata": {},
          "execution_count": 4
        }
      ],
      "execution_count": 4
    },
    {
      "id": "08b0b385-8782-4675-83de-44590cd31422",
      "cell_type": "code",
      "source": [
        "#Potência\n",
        "2**10"
      ],
      "metadata": {
        "tags": [],
        "trusted": true,
        "colab": {
          "base_uri": "https://localhost:8080/"
        },
        "id": "08b0b385-8782-4675-83de-44590cd31422",
        "outputId": "2fed46e8-311a-4eec-d6bf-bd9c5e84ff66"
      },
      "outputs": [
        {
          "output_type": "execute_result",
          "data": {
            "text/plain": [
              "1024"
            ]
          },
          "metadata": {},
          "execution_count": 5
        }
      ],
      "execution_count": 5
    },
    {
      "id": "773559ab-c1e1-4d38-8930-470553ee4079",
      "cell_type": "code",
      "source": [
        "#Precedência de operadores\n",
        "(2+2) + 4*2"
      ],
      "metadata": {
        "tags": [],
        "trusted": true,
        "colab": {
          "base_uri": "https://localhost:8080/"
        },
        "id": "773559ab-c1e1-4d38-8930-470553ee4079",
        "outputId": "c21d4dce-e81b-4633-c0a9-39e2f8f50786"
      },
      "outputs": [
        {
          "output_type": "execute_result",
          "data": {
            "text/plain": [
              "12"
            ]
          },
          "metadata": {},
          "execution_count": 6
        }
      ],
      "execution_count": 6
    },
    {
      "id": "3f324134-d5d0-4bd8-9e42-f91b9a5beef8",
      "cell_type": "markdown",
      "source": [
        "## Variáveis"
      ],
      "metadata": {
        "tags": [],
        "id": "3f324134-d5d0-4bd8-9e42-f91b9a5beef8"
      }
    },
    {
      "id": "9be73219-3119-4509-9cec-1e0dee1bbec4",
      "cell_type": "code",
      "source": [
        "#Não precisa declarar variáveis, o pyton reconhece só colocando = a algo\n",
        "\n",
        "a = 5\n",
        "a"
      ],
      "metadata": {
        "tags": [],
        "trusted": true,
        "colab": {
          "base_uri": "https://localhost:8080/"
        },
        "id": "9be73219-3119-4509-9cec-1e0dee1bbec4",
        "outputId": "fad2e67f-ee94-43a0-bafd-ec965323254e"
      },
      "outputs": [
        {
          "output_type": "execute_result",
          "data": {
            "text/plain": [
              "5"
            ]
          },
          "metadata": {},
          "execution_count": 7
        }
      ],
      "execution_count": 7
    },
    {
      "id": "0d136636-8693-408c-8102-a6d9c24f4d18",
      "cell_type": "code",
      "source": [
        "variavel_um = 2"
      ],
      "metadata": {
        "tags": [],
        "trusted": true,
        "id": "0d136636-8693-408c-8102-a6d9c24f4d18"
      },
      "outputs": [],
      "execution_count": 8
    },
    {
      "id": "d9c5ddef-cb35-4607-9a5f-474b3e8a116c",
      "cell_type": "code",
      "source": [
        "terceira_variavel = a + variavel_um\n",
        "terceira_variavel"
      ],
      "metadata": {
        "tags": [],
        "trusted": true,
        "colab": {
          "base_uri": "https://localhost:8080/"
        },
        "id": "d9c5ddef-cb35-4607-9a5f-474b3e8a116c",
        "outputId": "e37e0354-1086-4704-e3c0-9b01f0d46854"
      },
      "outputs": [
        {
          "output_type": "execute_result",
          "data": {
            "text/plain": [
              "7"
            ]
          },
          "metadata": {},
          "execution_count": 9
        }
      ],
      "execution_count": 9
    },
    {
      "id": "65fd996c-1638-4c4e-910e-87937f6f108d",
      "cell_type": "code",
      "source": [
        "#Conceitos de reciclagem (Substitui o valor de a por um novo)\n",
        "a = a ** 2\n",
        "a"
      ],
      "metadata": {
        "tags": [],
        "trusted": true,
        "colab": {
          "base_uri": "https://localhost:8080/"
        },
        "id": "65fd996c-1638-4c4e-910e-87937f6f108d",
        "outputId": "9715f997-fe0b-45dc-bd8e-8943bf96cf4f"
      },
      "outputs": [
        {
          "output_type": "execute_result",
          "data": {
            "text/plain": [
              "25"
            ]
          },
          "metadata": {},
          "execution_count": 10
        }
      ],
      "execution_count": 10
    },
    {
      "id": "1f2b5328-7d45-4d01-bbfe-441c3bc97ffc",
      "cell_type": "code",
      "source": [
        "# Strings\n",
        "minha_string = \"Pamella \" #aspas duplas ou simples funcionam\n",
        "minha_string"
      ],
      "metadata": {
        "tags": [],
        "trusted": true,
        "colab": {
          "base_uri": "https://localhost:8080/",
          "height": 36
        },
        "id": "1f2b5328-7d45-4d01-bbfe-441c3bc97ffc",
        "outputId": "9942bdf5-f231-4f58-d2f3-8a019cbdb06d"
      },
      "outputs": [
        {
          "output_type": "execute_result",
          "data": {
            "text/plain": [
              "'Pamella '"
            ],
            "application/vnd.google.colaboratory.intrinsic+json": {
              "type": "string"
            }
          },
          "metadata": {},
          "execution_count": 11
        }
      ],
      "execution_count": 11
    },
    {
      "id": "a53011d2-cd30-4d54-93f1-0cdf3c039887",
      "cell_type": "code",
      "source": [
        "minha_string_2 = 'Cora'"
      ],
      "metadata": {
        "tags": [],
        "trusted": true,
        "id": "a53011d2-cd30-4d54-93f1-0cdf3c039887"
      },
      "outputs": [],
      "execution_count": 12
    },
    {
      "id": "59b0f170-0c19-48ee-bd7e-a7354e12e1fc",
      "cell_type": "code",
      "source": [
        "#operações com strings\n",
        "minha_string + minha_string_2"
      ],
      "metadata": {
        "tags": [],
        "trusted": true,
        "colab": {
          "base_uri": "https://localhost:8080/",
          "height": 36
        },
        "id": "59b0f170-0c19-48ee-bd7e-a7354e12e1fc",
        "outputId": "95303c7e-0e0b-4461-cded-61c3376a8186"
      },
      "outputs": [
        {
          "output_type": "execute_result",
          "data": {
            "text/plain": [
              "'Pamella Cora'"
            ],
            "application/vnd.google.colaboratory.intrinsic+json": {
              "type": "string"
            }
          },
          "metadata": {},
          "execution_count": 13
        }
      ],
      "execution_count": 13
    },
    {
      "id": "251cb383-3c7c-4ba1-9c1c-bf314c274c98",
      "cell_type": "code",
      "source": [
        "#Ver comprimento da string\n",
        "len(minha_string)"
      ],
      "metadata": {
        "tags": [],
        "trusted": true,
        "colab": {
          "base_uri": "https://localhost:8080/"
        },
        "id": "251cb383-3c7c-4ba1-9c1c-bf314c274c98",
        "outputId": "88d59569-2303-4647-927d-475fe9d77a1c"
      },
      "outputs": [
        {
          "output_type": "execute_result",
          "data": {
            "text/plain": [
              "8"
            ]
          },
          "metadata": {},
          "execution_count": 14
        }
      ],
      "execution_count": 14
    },
    {
      "id": "e98954d6-72e3-45b2-9ac4-74dfc9335788",
      "cell_type": "code",
      "source": [
        "#Pegar letra da string\n",
        "minha_string[5]"
      ],
      "metadata": {
        "tags": [],
        "trusted": true,
        "colab": {
          "base_uri": "https://localhost:8080/",
          "height": 36
        },
        "id": "e98954d6-72e3-45b2-9ac4-74dfc9335788",
        "outputId": "c0f02977-2df3-4e1d-a1cc-3cdf655a3702"
      },
      "outputs": [
        {
          "output_type": "execute_result",
          "data": {
            "text/plain": [
              "'l'"
            ],
            "application/vnd.google.colaboratory.intrinsic+json": {
              "type": "string"
            }
          },
          "metadata": {},
          "execution_count": 15
        }
      ],
      "execution_count": 15
    },
    {
      "id": "dff47f97-5f9d-4a5d-9b85-b97ffb2c7921",
      "cell_type": "code",
      "source": [
        "#Pegar pedaços da string\n",
        "minha_string[4:]"
      ],
      "metadata": {
        "tags": [],
        "trusted": true,
        "colab": {
          "base_uri": "https://localhost:8080/",
          "height": 36
        },
        "id": "dff47f97-5f9d-4a5d-9b85-b97ffb2c7921",
        "outputId": "9091bdd7-f903-4a8d-db21-d4b11014c61f"
      },
      "outputs": [
        {
          "output_type": "execute_result",
          "data": {
            "text/plain": [
              "'lla '"
            ],
            "application/vnd.google.colaboratory.intrinsic+json": {
              "type": "string"
            }
          },
          "metadata": {},
          "execution_count": 16
        }
      ],
      "execution_count": 16
    },
    {
      "id": "a6f77b3a-bce7-438b-8f4f-76b35053d890",
      "cell_type": "code",
      "source": [
        "#Pegar pedaços no meio\n",
        "minha_string[1:4]"
      ],
      "metadata": {
        "tags": [],
        "trusted": true,
        "colab": {
          "base_uri": "https://localhost:8080/",
          "height": 36
        },
        "id": "a6f77b3a-bce7-438b-8f4f-76b35053d890",
        "outputId": "e1cf3cbd-7f1c-4075-8a7b-fb255deefdbb"
      },
      "outputs": [
        {
          "output_type": "execute_result",
          "data": {
            "text/plain": [
              "'ame'"
            ],
            "application/vnd.google.colaboratory.intrinsic+json": {
              "type": "string"
            }
          },
          "metadata": {},
          "execution_count": 17
        }
      ],
      "execution_count": 17
    },
    {
      "id": "c81498ec-f079-4a23-bf7b-a499c389cd0f",
      "cell_type": "code",
      "source": [
        "#Pegar última letra\n",
        "minha_string[-1]"
      ],
      "metadata": {
        "tags": [],
        "trusted": true,
        "colab": {
          "base_uri": "https://localhost:8080/",
          "height": 36
        },
        "id": "c81498ec-f079-4a23-bf7b-a499c389cd0f",
        "outputId": "967b0587-1864-4bda-9506-d156f5332a41"
      },
      "outputs": [
        {
          "output_type": "execute_result",
          "data": {
            "text/plain": [
              "' '"
            ],
            "application/vnd.google.colaboratory.intrinsic+json": {
              "type": "string"
            }
          },
          "metadata": {},
          "execution_count": 18
        }
      ],
      "execution_count": 18
    },
    {
      "id": "aa99d1f9-cb38-4510-b708-de55e4d65df4",
      "cell_type": "code",
      "source": [
        "# Converter para caixa alta\n",
        "\n",
        "minha_string.upper()"
      ],
      "metadata": {
        "tags": [],
        "trusted": true,
        "colab": {
          "base_uri": "https://localhost:8080/",
          "height": 36
        },
        "id": "aa99d1f9-cb38-4510-b708-de55e4d65df4",
        "outputId": "6787583a-1fa4-4422-dc89-47e96633051b"
      },
      "outputs": [
        {
          "output_type": "execute_result",
          "data": {
            "text/plain": [
              "'PAMELLA '"
            ],
            "application/vnd.google.colaboratory.intrinsic+json": {
              "type": "string"
            }
          },
          "metadata": {},
          "execution_count": 19
        }
      ],
      "execution_count": 19
    },
    {
      "id": "0e7993e2-6bd0-4603-b4f0-bd622ace6d1f",
      "cell_type": "code",
      "source": [
        "# Converter para caixa baixa\n",
        "\n",
        "minha_string.lower()"
      ],
      "metadata": {
        "tags": [],
        "trusted": true,
        "colab": {
          "base_uri": "https://localhost:8080/",
          "height": 36
        },
        "id": "0e7993e2-6bd0-4603-b4f0-bd622ace6d1f",
        "outputId": "6411c4f2-71af-4e4a-b4b2-27e532884fc2"
      },
      "outputs": [
        {
          "output_type": "execute_result",
          "data": {
            "text/plain": [
              "'pamella '"
            ],
            "application/vnd.google.colaboratory.intrinsic+json": {
              "type": "string"
            }
          },
          "metadata": {},
          "execution_count": 20
        }
      ],
      "execution_count": 20
    },
    {
      "id": "6719b3a9-b2a6-4017-b442-8b4e77f542d5",
      "cell_type": "code",
      "source": [
        "# Quebrar strings em pedaços\n",
        "\"Hello Pamella\".split()"
      ],
      "metadata": {
        "tags": [],
        "trusted": true,
        "colab": {
          "base_uri": "https://localhost:8080/"
        },
        "id": "6719b3a9-b2a6-4017-b442-8b4e77f542d5",
        "outputId": "012cab0f-16c0-470d-da89-c716ff028ac3"
      },
      "outputs": [
        {
          "output_type": "execute_result",
          "data": {
            "text/plain": [
              "['Hello', 'Pamella']"
            ]
          },
          "metadata": {},
          "execution_count": 21
        }
      ],
      "execution_count": 21
    },
    {
      "id": "7e2d7668-2686-4a46-a772-f62446d542f9",
      "cell_type": "code",
      "source": [
        "# Definir onde splitar\n",
        "\"Hello Pamella\".split('M')"
      ],
      "metadata": {
        "tags": [],
        "trusted": true,
        "colab": {
          "base_uri": "https://localhost:8080/"
        },
        "id": "7e2d7668-2686-4a46-a772-f62446d542f9",
        "outputId": "efd4b578-28bc-425d-a650-9c08266035a0"
      },
      "outputs": [
        {
          "output_type": "execute_result",
          "data": {
            "text/plain": [
              "['Hello Pamella']"
            ]
          },
          "metadata": {},
          "execution_count": 22
        }
      ],
      "execution_count": 22
    },
    {
      "id": "a1b09a5d-6b18-4e4e-82ae-140154fdd9c2",
      "cell_type": "code",
      "source": [
        "#\n",
        "idade = 21\n",
        "nome = \"Pamella\"\n",
        "\n",
        "print(\"Minha idade é: {a} \\\\ Meu nome é: {b}\".format(a = idade, b = nome))"
      ],
      "metadata": {
        "tags": [],
        "trusted": true,
        "colab": {
          "base_uri": "https://localhost:8080/"
        },
        "id": "a1b09a5d-6b18-4e4e-82ae-140154fdd9c2",
        "outputId": "312a15b2-61f9-4089-a50f-6d8d2b43122b"
      },
      "outputs": [
        {
          "output_type": "stream",
          "name": "stdout",
          "text": [
            "Minha idade é: 21 \\ Meu nome é: Pamella\n"
          ]
        }
      ],
      "execution_count": 23
    },
    {
      "id": "39ab7d01-1081-4f3b-9da3-2ca4eafb0537",
      "cell_type": "code",
      "source": [
        "# Listas\n",
        "#Conjunto de valores, letras, strings, listas, etc...\n",
        "minha_lista = [1,2,3]\n",
        "minha_lista"
      ],
      "metadata": {
        "tags": [],
        "trusted": true,
        "colab": {
          "base_uri": "https://localhost:8080/"
        },
        "id": "39ab7d01-1081-4f3b-9da3-2ca4eafb0537",
        "outputId": "5d7656e0-7cce-4419-cb85-7e1421923a2e"
      },
      "outputs": [
        {
          "output_type": "execute_result",
          "data": {
            "text/plain": [
              "[1, 2, 3]"
            ]
          },
          "metadata": {},
          "execution_count": 24
        }
      ],
      "execution_count": 24
    },
    {
      "id": "3d24550e-5e97-48eb-88b1-2477822b80bf",
      "cell_type": "code",
      "source": [
        "#Formas de me localizar na lista\n",
        "minha_lista[1:-1] #Mostra o segundo número, se o último número"
      ],
      "metadata": {
        "tags": [],
        "trusted": true,
        "colab": {
          "base_uri": "https://localhost:8080/"
        },
        "id": "3d24550e-5e97-48eb-88b1-2477822b80bf",
        "outputId": "7397eaa9-3237-4795-9de9-0d1bdcd57faf"
      },
      "outputs": [
        {
          "output_type": "execute_result",
          "data": {
            "text/plain": [
              "[2]"
            ]
          },
          "metadata": {},
          "execution_count": 25
        }
      ],
      "execution_count": 25
    },
    {
      "id": "b48d0d95-3ed6-403d-b9d4-7d4bf907c9e9",
      "cell_type": "code",
      "source": [
        "#Métodos básicos de lista\n",
        "#a) Métodos Append adicionar um número no final\n",
        "l = [1,2,3]\n",
        "l.append(4) #Serve para acrescentar um elemento que está no parênteses\n",
        "l"
      ],
      "metadata": {
        "tags": [],
        "trusted": true,
        "colab": {
          "base_uri": "https://localhost:8080/"
        },
        "id": "b48d0d95-3ed6-403d-b9d4-7d4bf907c9e9",
        "outputId": "ab15a66f-5de1-43fd-df60-2d63bec2d783"
      },
      "outputs": [
        {
          "output_type": "execute_result",
          "data": {
            "text/plain": [
              "[1, 2, 3, 4]"
            ]
          },
          "metadata": {},
          "execution_count": 26
        }
      ],
      "execution_count": 26
    },
    {
      "id": "eeb434e8-3150-4b8b-9b7a-861e3b538314",
      "cell_type": "code",
      "source": [
        "#b) Métodos Pop para tirar o último número\n",
        "l.pop()"
      ],
      "metadata": {
        "tags": [],
        "trusted": true,
        "colab": {
          "base_uri": "https://localhost:8080/"
        },
        "id": "eeb434e8-3150-4b8b-9b7a-861e3b538314",
        "outputId": "df2bce6e-80d0-4f78-a8d0-687b8f06236a"
      },
      "outputs": [
        {
          "output_type": "execute_result",
          "data": {
            "text/plain": [
              "4"
            ]
          },
          "metadata": {},
          "execution_count": 27
        }
      ],
      "execution_count": 27
    },
    {
      "id": "165ade06-9d22-45e1-b2b3-7013f4b8cd5b",
      "cell_type": "code",
      "source": [
        "l"
      ],
      "metadata": {
        "tags": [],
        "trusted": true,
        "colab": {
          "base_uri": "https://localhost:8080/"
        },
        "id": "165ade06-9d22-45e1-b2b3-7013f4b8cd5b",
        "outputId": "7abf3f2a-a58c-4bf9-db7c-d142eb52a4e2"
      },
      "outputs": [
        {
          "output_type": "execute_result",
          "data": {
            "text/plain": [
              "[1, 2, 3]"
            ]
          },
          "metadata": {},
          "execution_count": 29
        }
      ],
      "execution_count": 29
    },
    {
      "id": "57ad211d-0789-4f69-86f3-2cd2b5370fb4",
      "cell_type": "code",
      "source": [
        "#Métodos para string\n",
        "outra_lista = [\"a\", \"b\", \"c\", \"d\"]\n",
        "\n",
        "outra_lista.sort() #Bota na ordem alfabética\n",
        "outra_lista"
      ],
      "metadata": {
        "tags": [],
        "trusted": true,
        "colab": {
          "base_uri": "https://localhost:8080/"
        },
        "id": "57ad211d-0789-4f69-86f3-2cd2b5370fb4",
        "outputId": "223c9df3-81b8-4fae-b80e-98b4466483e3"
      },
      "outputs": [
        {
          "output_type": "execute_result",
          "data": {
            "text/plain": [
              "['a', 'b', 'c', 'd']"
            ]
          },
          "metadata": {},
          "execution_count": 30
        }
      ],
      "execution_count": 30
    },
    {
      "id": "e95d7eb9-aa5f-4ca3-9a04-98ca1c102cec",
      "cell_type": "code",
      "source": [
        "outra_lista.reverse() #inverte a ordem da lista\n",
        "outra_lista"
      ],
      "metadata": {
        "tags": [],
        "trusted": true,
        "colab": {
          "base_uri": "https://localhost:8080/"
        },
        "id": "e95d7eb9-aa5f-4ca3-9a04-98ca1c102cec",
        "outputId": "d45ec672-1784-4d33-c2f9-615b244c3b48"
      },
      "outputs": [
        {
          "output_type": "execute_result",
          "data": {
            "text/plain": [
              "['d', 'c', 'b', 'a']"
            ]
          },
          "metadata": {},
          "execution_count": 31
        }
      ],
      "execution_count": 31
    },
    {
      "id": "171f4ae8-c527-4eb2-b0d4-f1690eade4c6",
      "cell_type": "code",
      "source": [
        "# Inputs (pedir pra pessoa digitar algo)\n",
        "print (\"Digite seu nome: \")\n",
        "a = input( )\n",
        "\n",
        "print(\"Olá\", a)\n",
        "\n",
        "\n",
        "\n",
        "\n"
      ],
      "metadata": {
        "trusted": true,
        "colab": {
          "base_uri": "https://localhost:8080/"
        },
        "id": "171f4ae8-c527-4eb2-b0d4-f1690eade4c6",
        "outputId": "d7e79a15-827f-4844-b2d7-c79c7f317d3e"
      },
      "outputs": [
        {
          "output_type": "stream",
          "name": "stdout",
          "text": [
            "Digite seu nome: \n",
            "Pamella\n",
            "Olá Pamella\n"
          ]
        }
      ],
      "execution_count": 34
    }
  ]
}